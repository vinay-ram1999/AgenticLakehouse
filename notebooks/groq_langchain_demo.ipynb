{
 "cells": [
  {
   "cell_type": "code",
   "execution_count": 1,
   "id": "eaafa486",
   "metadata": {},
   "outputs": [
    {
     "data": {
      "text/plain": [
       "True"
      ]
     },
     "execution_count": 1,
     "metadata": {},
     "output_type": "execute_result"
    }
   ],
   "source": [
    "from dotenv import load_dotenv\n",
    "\n",
    "load_dotenv()"
   ]
  },
  {
   "cell_type": "markdown",
   "id": "ab38e470",
   "metadata": {},
   "source": [
    "# Groq LLM"
   ]
  },
  {
   "cell_type": "code",
   "execution_count": 3,
   "id": "5413d69c",
   "metadata": {},
   "outputs": [],
   "source": [
    "from langchain_groq import ChatGroq\n",
    "\n",
    "llm = ChatGroq(\n",
    "    model=\"deepseek-r1-distill-llama-70b\",\n",
    "    temperature=0,\n",
    "    max_tokens=None,\n",
    "    reasoning_format=\"parsed\",\n",
    "    timeout=None,\n",
    "    max_retries=2,\n",
    "    # other params...\n",
    ")"
   ]
  },
  {
   "cell_type": "code",
   "execution_count": 4,
   "id": "0403c635",
   "metadata": {},
   "outputs": [
    {
     "data": {
      "text/plain": [
       "AIMessage(content=\"J'aime programmer.\", additional_kwargs={'reasoning_content': 'Okay, so I need to translate the sentence \"I love programming.\" into French. Let me think about how to approach this. \\n\\nFirst, I know that \"I\" in French is \"Je.\" That\\'s straightforward. Next, \"love\" translates to \"aime\" when referring to a singular subject like \"I.\" So, \"I love\" becomes \"J\\'aime.\" \\n\\nNow, the tricky part is \"programming.\" In French, the word for programming is \"la programmation.\" But wait, in French, when you love something, you often use the verb \"aime\" followed by the preposition \"à\" and then the infinitive form of the verb. So, \"I love programming\" would be \"J\\'aime programmer.\" \\n\\nWait, but sometimes people might say \"J\\'aime la programmation.\" Which one is more natural? I think both are correct, but \"J\\'aime programmer\" is more direct because it uses the infinitive form after the verb \"aime.\" \\n\\nLet me double-check. In French, when you love an activity, you can say \"J\\'aime + infinitive.\" For example, \"J\\'aime nager\" means \"I love swimming.\" So, applying that, \"J\\'aime programmer\" should be correct. \\n\\nAlternatively, \"J\\'aime la programmation\" is also correct because \"la programmation\" is the noun form. So, both translations are possible, but the first one is more concise and directly uses the infinitive. \\n\\nI think the most natural translation would be \"J\\'aime programmer.\" That\\'s how native speakers would typically express it. \\n\\nSo, putting it all together, \"I love programming.\" translates to \"J\\'aime programmer.\"\\n'}, response_metadata={'token_usage': {'completion_tokens': 365, 'prompt_tokens': 23, 'total_tokens': 388, 'completion_time': 1.480181277, 'prompt_time': 0.01128373, 'queue_time': 0.217187644, 'total_time': 1.491465007}, 'model_name': 'deepseek-r1-distill-llama-70b', 'system_fingerprint': 'fp_1bbe7845ec', 'service_tier': 'on_demand', 'finish_reason': 'stop', 'logprobs': None}, id='run--15062854-ae46-40a8-b813-cc0d6bc969c4-0', usage_metadata={'input_tokens': 23, 'output_tokens': 365, 'total_tokens': 388})"
      ]
     },
     "execution_count": 4,
     "metadata": {},
     "output_type": "execute_result"
    }
   ],
   "source": [
    "messages = [\n",
    "    (\n",
    "        \"system\",\n",
    "        \"You are a helpful assistant that translates English to French. Translate the user sentence.\",\n",
    "    ),\n",
    "    (\"human\", \"I love programming.\"),\n",
    "]\n",
    "ai_msg = llm.invoke(messages)\n",
    "ai_msg"
   ]
  },
  {
   "cell_type": "code",
   "execution_count": 6,
   "id": "af0a0d3b",
   "metadata": {},
   "outputs": [
    {
     "data": {
      "text/plain": [
       "'The translation of \"I love programming\" into German is \"Ich liebe das Programmieren.\" \\n\\n**Step-by-Step Explanation:**\\n\\n1. **Subject Pronoun:** \"I\" translates to \"Ich.\"\\n2. **Verb Conjugation:** \"Love\" becomes \"liebe\" (first person singular of \"lieben\").\\n3. **Gerund Translation:** \"Programming\" is translated using the infinitive noun \"Programmieren.\"\\n4. **Definite Article:** The phrase includes \"das\" before \"Programmieren\" to denote the act of programming, making it \"das Programmieren.\"\\n5. **Full Sentence:** Combining these elements results in \"Ich liebe das Programmieren.\"\\n\\nThis structure mirrors how English uses gerunds, such as \"I love reading,\" which translates similarly in German.'"
      ]
     },
     "execution_count": 6,
     "metadata": {},
     "output_type": "execute_result"
    }
   ],
   "source": [
    "from langchain_core.prompts import ChatPromptTemplate\n",
    "\n",
    "prompt = ChatPromptTemplate.from_messages(\n",
    "    [\n",
    "        (\n",
    "            \"system\",\n",
    "            \"You are a helpful assistant that translates {input_language} to {output_language}.\",\n",
    "        ),\n",
    "        (\"human\", \"{input}\"),\n",
    "    ]\n",
    ")\n",
    "\n",
    "chain = prompt | llm\n",
    "output = chain.invoke(\n",
    "    {\n",
    "        \"input_language\": \"English\",\n",
    "        \"output_language\": \"German\",\n",
    "        \"input\": \"I love programming.\",\n",
    "    }\n",
    ")\n",
    "\n",
    "output.content"
   ]
  },
  {
   "cell_type": "code",
   "execution_count": null,
   "id": "d37413d6",
   "metadata": {},
   "outputs": [],
   "source": []
  }
 ],
 "metadata": {
  "kernelspec": {
   "display_name": "Lakehouse-RAG (3.11.4)",
   "language": "python",
   "name": "python3"
  },
  "language_info": {
   "codemirror_mode": {
    "name": "ipython",
    "version": 3
   },
   "file_extension": ".py",
   "mimetype": "text/x-python",
   "name": "python",
   "nbconvert_exporter": "python",
   "pygments_lexer": "ipython3",
   "version": "3.11.4"
  }
 },
 "nbformat": 4,
 "nbformat_minor": 5
}
