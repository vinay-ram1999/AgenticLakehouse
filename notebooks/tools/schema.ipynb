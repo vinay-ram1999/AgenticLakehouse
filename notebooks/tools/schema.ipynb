{
 "cells": [
  {
   "cell_type": "code",
   "execution_count": 1,
   "id": "c9c6a354",
   "metadata": {},
   "outputs": [
    {
     "data": {
      "text/plain": [
       "True"
      ]
     },
     "execution_count": 1,
     "metadata": {},
     "output_type": "execute_result"
    }
   ],
   "source": [
    "from dotenv import load_dotenv\n",
    "import os\n",
    "load_dotenv()"
   ]
  },
  {
   "cell_type": "code",
   "execution_count": 2,
   "id": "43ff1f74",
   "metadata": {},
   "outputs": [],
   "source": [
    "from databricks.sdk import WorkspaceClient\n",
    "w = WorkspaceClient()\n",
    "\n",
    "from langchain_groq import ChatGroq\n",
    "llm = ChatGroq(model=\"gemma2-9b-it\", temperature=0)"
   ]
  },
  {
   "cell_type": "code",
   "execution_count": 62,
   "id": "0bb47930",
   "metadata": {},
   "outputs": [],
   "source": [
    "from langchain_core.tools import tool\n",
    "\n",
    "from typing import Union\n",
    "import json\n",
    "\n",
    "@tool\n",
    "def get_all_schemas_info(catalog_name: str) -> str:\n",
    "    \"\"\"Use this tool to find all available schemas present in the given catalog.\"\"\"\n",
    "    schemas = []\n",
    "    workspace_client = w\n",
    "    for schema in workspace_client.schemas.list(catalog_name=catalog_name):\n",
    "        schema_info = json.dumps({\n",
    "            \"name\": schema.name,\n",
    "            \"full_name\": schema.full_name,\n",
    "            \"description\": schema.comment\n",
    "        })\n",
    "        schemas.append(schema_info) if schema.name != \"information_schema\" else None\n",
    "    schemas.append(\"\\n\")\n",
    "    return \"\\n\".join(schemas)\n",
    "\n",
    "@tool()\n",
    "def get_all_tables_info(catalog_name: str, schema_name: Union[str, list] | None = None) -> str:\n",
    "    \"\"\"Use this tool to find the information of all available tables (including description and columns information) present in the given catalog and schema\"\"\"\n",
    "    tables = []\n",
    "    workspace_client = w\n",
    "\n",
    "    if schema_name is None:\n",
    "        return f\"The user has not specified the 'schema_name'. Collect all available schemas and recall this tool with the list of schemas as input\"\n",
    "    \n",
    "    if isinstance(schema_name, str):\n",
    "        for table in workspace_client.tables.list(catalog_name=catalog_name, schema_name=schema_name):\n",
    "            table_constraints = w.tables.get(full_name=table.full_name).table_constraints #BUG table.table_constraints has some bug and is returning None\n",
    "            table_info = json.dumps({\n",
    "                \"name\": table.name,\n",
    "                \"full_name\": table.full_name,\n",
    "                \"type\": table.table_type.name,\n",
    "                \"description\": table.comment,\n",
    "                \"columns\": [table.columns[0].as_dict()] if table.columns else None,\n",
    "                \"constraints\": table_constraints[0].as_dict() if table_constraints else None,\n",
    "                \"view_definition\": table.view_definition,\n",
    "                \"view_dependencies\": table.view_dependencies.as_dict() if table.view_dependencies else None\n",
    "            })\n",
    "            tables.append(table_info)\n",
    "    else:\n",
    "        for schema in schema_name:\n",
    "            for table in workspace_client.tables.list(catalog_name=catalog_name, schema_name=schema):\n",
    "                table_constraints = w.tables.get(full_name=table.full_name).table_constraints #BUG table.table_constraints has some bug and is returning None\n",
    "                table_info = json.dumps({\n",
    "                    \"name\": table.name,\n",
    "                    \"full_name\": table.full_name,\n",
    "                    \"type\": table.table_type.name,\n",
    "                    \"description\": table.comment,\n",
    "                    \"columns\": [table.columns[0].as_dict()] if table.columns else None,\n",
    "                    \"constraints\": table_constraints[0].as_dict() if table_constraints else None,\n",
    "                    \"view_definition\": table.view_definition,\n",
    "                    \"view_dependencies\": table.view_dependencies.as_dict() if table.view_dependencies else None\n",
    "                })\n",
    "                tables.append(table_info)\n",
    "    tables.append(\"\\n\")\n",
    "    return \"\\n\".join(tables)"
   ]
  },
  {
   "cell_type": "code",
   "execution_count": 63,
   "id": "dc62cc5a",
   "metadata": {},
   "outputs": [
    {
     "data": {
      "text/plain": [
       "{'description': 'Use this tool to find the information of all available tables (including description and columns information) present in the given catalog and schema',\n",
       " 'properties': {'catalog_name': {'title': 'Catalog Name', 'type': 'string'},\n",
       "  'schema_name': {'anyOf': [{'type': 'string'},\n",
       "    {'items': {}, 'type': 'array'},\n",
       "    {'type': 'null'}],\n",
       "   'default': None,\n",
       "   'title': 'Schema Name'}},\n",
       " 'required': ['catalog_name'],\n",
       " 'title': 'get_all_tables_info',\n",
       " 'type': 'object'}"
      ]
     },
     "execution_count": 63,
     "metadata": {},
     "output_type": "execute_result"
    }
   ],
   "source": [
    "get_all_tables_info.args_schema.model_json_schema()"
   ]
  },
  {
   "cell_type": "code",
   "execution_count": 64,
   "id": "ec6dca97",
   "metadata": {},
   "outputs": [],
   "source": [
    "from langchain_core.prompts import ChatPromptTemplate, MessagesPlaceholder, SystemMessagePromptTemplate, HumanMessagePromptTemplate\n",
    "\n",
    "system_promt = SystemMessagePromptTemplate.from_template(template=\"\"\"\n",
    "You are a helpful databricks lakehouse assistant primarily used for exploring the databricks workspace artifacts by leveraging Unity Catalog and SparkSQL.\n",
    "The databricks unity catalog follows a three-level namespace '<catalog>.<schema>.<table>' make sure you adhere to this while using the tools.\n",
    "\n",
    "You are only allowed to access '{catalog}' catalog from the workspace. Use this catalog by default if the user has not mentioned anything. \n",
    "Return 'Unauthorized to access, contact the Admin' if the user is explicitly trying/asking to access any other catalog.\n",
    "\n",
    "Help the users by answering/executing their queries using the appropriate tools.\n",
    "\"\"\",\n",
    "input_variables=[\"catalog\"]\n",
    ")\n",
    "\n",
    "human_prompt = HumanMessagePromptTemplate.from_template(template=\"\"\"\n",
    "Assist the user with the following query:\n",
    "---\n",
    "{query}\n",
    "---\n",
    "Only output the required message, no other explanation or text can be provided.\n",
    "\"\"\",\n",
    "input_variables=[\"query\"]\n",
    ")\n",
    "\n",
    "prompt = ChatPromptTemplate.from_messages([\n",
    "    system_promt,\n",
    "    MessagesPlaceholder(variable_name=\"chat_history\"),\n",
    "    human_prompt,\n",
    "    (\"placeholder\", \"{agent_scratchpad}\"),\n",
    "])"
   ]
  },
  {
   "cell_type": "code",
   "execution_count": 65,
   "id": "a7f5e51a",
   "metadata": {},
   "outputs": [],
   "source": [
    "from langchain.memory import ConversationBufferMemory\n",
    "\n",
    "memory = ConversationBufferMemory(\n",
    "    input_key=\"query\",\n",
    "    memory_key=\"chat_history\",  # must align with MessagesPlaceholder variable_name\n",
    "    output_key=\"output\",\n",
    "    return_messages=True  # to return Message objects\n",
    ")"
   ]
  },
  {
   "cell_type": "code",
   "execution_count": 66,
   "id": "47ba7a1a",
   "metadata": {},
   "outputs": [
    {
     "data": {
      "text/plain": [
       "[ToolAgentAction(tool='get_all_tables_info', tool_input={'catalog_name': 'tpch', 'schema_name': None}, log=\"\\nInvoking: `get_all_tables_info` with `{'catalog_name': 'tpch', 'schema_name': None}`\\n\\n\\n\", message_log=[AIMessage(content='', additional_kwargs={'tool_calls': [{'id': 's1dc2f2pb', 'function': {'arguments': '{\"catalog_name\":\"tpch\",\"schema_name\":null}', 'name': 'get_all_tables_info'}, 'type': 'function'}]}, response_metadata={'token_usage': {'completion_tokens': 95, 'prompt_tokens': 1330, 'total_tokens': 1425, 'completion_time': 0.172727273, 'prompt_time': 0.026571335, 'queue_time': 0.102628603, 'total_time': 0.199298608}, 'model_name': 'gemma2-9b-it', 'system_fingerprint': 'fp_10c08bf97d', 'service_tier': 'on_demand', 'finish_reason': 'tool_calls', 'logprobs': None}, id='run--d8df3af0-c274-4401-937a-603a841479ea-0', tool_calls=[{'name': 'get_all_tables_info', 'args': {'catalog_name': 'tpch', 'schema_name': None}, 'id': 's1dc2f2pb', 'type': 'tool_call'}], usage_metadata={'input_tokens': 1330, 'output_tokens': 95, 'total_tokens': 1425})], tool_call_id='s1dc2f2pb')]"
      ]
     },
     "execution_count": 66,
     "metadata": {},
     "output_type": "execute_result"
    }
   ],
   "source": [
    "from langchain.agents import create_tool_calling_agent\n",
    "\n",
    "tools = [get_all_schemas_info, get_all_tables_info]\n",
    "\n",
    "agent = create_tool_calling_agent(llm=llm, tools=tools, prompt=prompt)\n",
    "\n",
    "agent.invoke({\n",
    "    \"catalog\": \"tpch\",\n",
    "    \"query\": \"List all the table names that are available\",\n",
    "    \"chat_history\": memory.chat_memory.messages,\n",
    "    \"intermediate_steps\": []  # agent will append it's internal steps here\n",
    "})"
   ]
  },
  {
   "cell_type": "code",
   "execution_count": 67,
   "id": "a1f42269",
   "metadata": {},
   "outputs": [
    {
     "name": "stdout",
     "output_type": "stream",
     "text": [
      "\n",
      "\n",
      "\u001b[1m> Entering new AgentExecutor chain...\u001b[0m\n",
      "\u001b[32;1m\u001b[1;3m\n",
      "Invoking: `get_all_tables_info` with `{'catalog_name': 'tpch', 'schema_name': None}`\n",
      "\n",
      "\n",
      "\u001b[0m\u001b[33;1m\u001b[1;3mThe user has not specified the 'schema_name'. Collect all available schemas and recall this tool with the list of schemas as input\u001b[0m\u001b[32;1m\u001b[1;3m\n",
      "Invoking: `get_all_schemas_info` with `{'catalog_name': 'tpch'}`\n",
      "\n",
      "\n",
      "\u001b[0m\u001b[36;1m\u001b[1;3m{\"name\": \"bronze\", \"full_name\": \"tpch.bronze\", \"description\": \"\"}\n",
      "{\"name\": \"default\", \"full_name\": \"tpch.default\", \"description\": \"Default schema (auto-created)\"}\n",
      "{\"name\": \"silver\", \"full_name\": \"tpch.silver\", \"description\": \"\"}\n",
      "\n",
      "\u001b[0m\u001b[32;1m\u001b[1;3m\n",
      "Invoking: `get_all_tables_info` with `{'catalog_name': 'tpch', 'schema_name': ['bronze', 'default', 'silver']}`\n",
      "\n",
      "\n",
      "\u001b[0m\u001b[33;1m\u001b[1;3m{\"name\": \"customer\", \"full_name\": \"tpch.bronze.customer\", \"type\": \"MANAGED\", \"description\": null, \"columns\": [{\"name\": \"c_custkey\", \"nullable\": true, \"position\": 0, \"type_json\": \"{\\\"name\\\":\\\"c_custkey\\\",\\\"type\\\":\\\"long\\\",\\\"nullable\\\":true,\\\"metadata\\\":{}}\", \"type_name\": \"LONG\", \"type_precision\": 0, \"type_scale\": 0, \"type_text\": \"bigint\"}], \"constraints\": null, \"view_definition\": null, \"view_dependencies\": null}\n",
      "{\"name\": \"lineitem\", \"full_name\": \"tpch.bronze.lineitem\", \"type\": \"MANAGED\", \"description\": null, \"columns\": [{\"name\": \"l_orderkey\", \"nullable\": true, \"position\": 0, \"type_json\": \"{\\\"name\\\":\\\"l_orderkey\\\",\\\"type\\\":\\\"long\\\",\\\"nullable\\\":true,\\\"metadata\\\":{}}\", \"type_name\": \"LONG\", \"type_precision\": 0, \"type_scale\": 0, \"type_text\": \"bigint\"}], \"constraints\": null, \"view_definition\": null, \"view_dependencies\": null}\n",
      "{\"name\": \"nation\", \"full_name\": \"tpch.bronze.nation\", \"type\": \"MANAGED\", \"description\": null, \"columns\": [{\"name\": \"n_nationkey\", \"nullable\": true, \"position\": 0, \"type_json\": \"{\\\"name\\\":\\\"n_nationkey\\\",\\\"type\\\":\\\"long\\\",\\\"nullable\\\":true,\\\"metadata\\\":{}}\", \"type_name\": \"LONG\", \"type_precision\": 0, \"type_scale\": 0, \"type_text\": \"bigint\"}], \"constraints\": null, \"view_definition\": null, \"view_dependencies\": null}\n",
      "{\"name\": \"orders\", \"full_name\": \"tpch.bronze.orders\", \"type\": \"MANAGED\", \"description\": null, \"columns\": [{\"name\": \"o_orderkey\", \"nullable\": true, \"position\": 0, \"type_json\": \"{\\\"name\\\":\\\"o_orderkey\\\",\\\"type\\\":\\\"long\\\",\\\"nullable\\\":true,\\\"metadata\\\":{}}\", \"type_name\": \"LONG\", \"type_precision\": 0, \"type_scale\": 0, \"type_text\": \"bigint\"}], \"constraints\": null, \"view_definition\": null, \"view_dependencies\": null}\n",
      "{\"name\": \"part\", \"full_name\": \"tpch.bronze.part\", \"type\": \"MANAGED\", \"description\": null, \"columns\": [{\"name\": \"p_partkey\", \"nullable\": true, \"position\": 0, \"type_json\": \"{\\\"name\\\":\\\"p_partkey\\\",\\\"type\\\":\\\"long\\\",\\\"nullable\\\":true,\\\"metadata\\\":{}}\", \"type_name\": \"LONG\", \"type_precision\": 0, \"type_scale\": 0, \"type_text\": \"bigint\"}], \"constraints\": null, \"view_definition\": null, \"view_dependencies\": null}\n",
      "{\"name\": \"partsupp\", \"full_name\": \"tpch.bronze.partsupp\", \"type\": \"MANAGED\", \"description\": null, \"columns\": [{\"name\": \"ps_partkey\", \"nullable\": true, \"position\": 0, \"type_json\": \"{\\\"name\\\":\\\"ps_partkey\\\",\\\"type\\\":\\\"long\\\",\\\"nullable\\\":true,\\\"metadata\\\":{}}\", \"type_name\": \"LONG\", \"type_precision\": 0, \"type_scale\": 0, \"type_text\": \"bigint\"}], \"constraints\": null, \"view_definition\": null, \"view_dependencies\": null}\n",
      "{\"name\": \"region\", \"full_name\": \"tpch.bronze.region\", \"type\": \"MANAGED\", \"description\": null, \"columns\": [{\"name\": \"r_regionkey\", \"nullable\": true, \"position\": 0, \"type_json\": \"{\\\"name\\\":\\\"r_regionkey\\\",\\\"type\\\":\\\"long\\\",\\\"nullable\\\":true,\\\"metadata\\\":{}}\", \"type_name\": \"LONG\", \"type_precision\": 0, \"type_scale\": 0, \"type_text\": \"bigint\"}], \"constraints\": null, \"view_definition\": null, \"view_dependencies\": null}\n",
      "{\"name\": \"supplier\", \"full_name\": \"tpch.bronze.supplier\", \"type\": \"MANAGED\", \"description\": null, \"columns\": [{\"name\": \"s_suppkey\", \"nullable\": true, \"position\": 0, \"type_json\": \"{\\\"name\\\":\\\"s_suppkey\\\",\\\"type\\\":\\\"long\\\",\\\"nullable\\\":true,\\\"metadata\\\":{}}\", \"type_name\": \"LONG\", \"type_precision\": 0, \"type_scale\": 0, \"type_text\": \"bigint\"}], \"constraints\": null, \"view_definition\": null, \"view_dependencies\": null}\n",
      "{\"name\": \"customer_features\", \"full_name\": \"tpch.silver.customer_features\", \"type\": \"MANAGED\", \"description\": \"Customer feature table with account balance, market segment, nation, and region features\", \"columns\": [{\"name\": \"customer_id\", \"nullable\": false, \"position\": 0, \"type_json\": \"{\\\"name\\\":\\\"customer_id\\\",\\\"type\\\":\\\"long\\\",\\\"nullable\\\":false,\\\"metadata\\\":{}}\", \"type_name\": \"LONG\", \"type_precision\": 0, \"type_scale\": 0, \"type_text\": \"bigint\"}], \"constraints\": {\"primary_key_constraint\": {\"child_columns\": [\"customer_id\"], \"name\": \"customer_features_pk\"}}, \"view_definition\": null, \"view_dependencies\": null}\n",
      "{\"name\": \"orders_features\", \"full_name\": \"tpch.silver.orders_features\", \"type\": \"MANAGED\", \"description\": \"Orders feature table with order status, total price, date, and priority features\", \"columns\": [{\"name\": \"order_id\", \"nullable\": false, \"position\": 0, \"type_json\": \"{\\\"name\\\":\\\"order_id\\\",\\\"type\\\":\\\"long\\\",\\\"nullable\\\":false,\\\"metadata\\\":{}}\", \"type_name\": \"LONG\", \"type_precision\": 0, \"type_scale\": 0, \"type_text\": \"bigint\"}], \"constraints\": {\"primary_key_constraint\": {\"child_columns\": [\"order_id\"], \"name\": \"orders_features_pk\"}}, \"view_definition\": null, \"view_dependencies\": null}\n",
      "{\"name\": \"part_supplier_features\", \"full_name\": \"tpch.silver.part_supplier_features\", \"type\": \"MANAGED\", \"description\": \"Part supplier feature table with part type, size, retail price, available quantity, supply cost, supplier account balance, nation, and region features\", \"columns\": [{\"name\": \"part_id\", \"nullable\": false, \"position\": 0, \"type_json\": \"{\\\"name\\\":\\\"part_id\\\",\\\"type\\\":\\\"long\\\",\\\"nullable\\\":false,\\\"metadata\\\":{}}\", \"type_name\": \"LONG\", \"type_precision\": 0, \"type_scale\": 0, \"type_text\": \"bigint\"}], \"constraints\": {\"primary_key_constraint\": {\"child_columns\": [\"part_id\", \"supplier_id\"], \"name\": \"part_supplier_features_pk\"}}, \"view_definition\": null, \"view_dependencies\": null}\n",
      "\n",
      "\u001b[0m\u001b[32;1m\u001b[1;3m```json\n",
      "[\n",
      "  \"customer\",\n",
      "  \"lineitem\",\n",
      "  \"nation\",\n",
      "  \"orders\",\n",
      "  \"part\",\n",
      "  \"partsupp\",\n",
      "  \"region\",\n",
      "  \"supplier\",\n",
      "  \"customer_features\",\n",
      "  \"orders_features\",\n",
      "  \"part_supplier_features\"\n",
      "]\n",
      "```\u001b[0m\n",
      "\n",
      "\u001b[1m> Finished chain.\u001b[0m\n"
     ]
    },
    {
     "data": {
      "text/plain": [
       "{'catalog': 'tpch',\n",
       " 'query': 'List all the table names that are available',\n",
       " 'chat_history': [HumanMessage(content='List all the table names that are available', additional_kwargs={}, response_metadata={}),\n",
       "  AIMessage(content='```json\\n[\\n  \"customer\",\\n  \"lineitem\",\\n  \"nation\",\\n  \"orders\",\\n  \"part\",\\n  \"partsupp\",\\n  \"region\",\\n  \"supplier\",\\n  \"customer_features\",\\n  \"orders_features\",\\n  \"part_supplier_features\"\\n]\\n```', additional_kwargs={}, response_metadata={})],\n",
       " 'output': '```json\\n[\\n  \"customer\",\\n  \"lineitem\",\\n  \"nation\",\\n  \"orders\",\\n  \"part\",\\n  \"partsupp\",\\n  \"region\",\\n  \"supplier\",\\n  \"customer_features\",\\n  \"orders_features\",\\n  \"part_supplier_features\"\\n]\\n```'}"
      ]
     },
     "execution_count": 67,
     "metadata": {},
     "output_type": "execute_result"
    }
   ],
   "source": [
    "from langchain.agents import AgentExecutor\n",
    "\n",
    "agent_executor = AgentExecutor(\n",
    "    agent=agent,\n",
    "    tools=tools,\n",
    "    memory=memory,\n",
    "    verbose=True\n",
    ")\n",
    "\n",
    "agent_executor.invoke({\n",
    "    \"catalog\": \"tpch\",\n",
    "    \"query\": \"List all the table names that are available\",\n",
    "    \"chat_history\": memory.chat_memory.messages\n",
    "})"
   ]
  },
  {
   "cell_type": "code",
   "execution_count": 68,
   "id": "df02f4f0",
   "metadata": {},
   "outputs": [
    {
     "name": "stdout",
     "output_type": "stream",
     "text": [
      "\n",
      "\n",
      "\u001b[1m> Entering new AgentExecutor chain...\u001b[0m\n",
      "\u001b[32;1m\u001b[1;3m\n",
      "Invoking: `get_all_tables_info` with `{'catalog_name': 'tpch', 'schema_name': 'silver'}`\n",
      "\n",
      "\n",
      "\u001b[0m\u001b[33;1m\u001b[1;3m{\"name\": \"customer_features\", \"full_name\": \"tpch.silver.customer_features\", \"type\": \"MANAGED\", \"description\": \"Customer feature table with account balance, market segment, nation, and region features\", \"columns\": [{\"name\": \"customer_id\", \"nullable\": false, \"position\": 0, \"type_json\": \"{\\\"name\\\":\\\"customer_id\\\",\\\"type\\\":\\\"long\\\",\\\"nullable\\\":false,\\\"metadata\\\":{}}\", \"type_name\": \"LONG\", \"type_precision\": 0, \"type_scale\": 0, \"type_text\": \"bigint\"}], \"constraints\": {\"primary_key_constraint\": {\"child_columns\": [\"customer_id\"], \"name\": \"customer_features_pk\"}}, \"view_definition\": null, \"view_dependencies\": null}\n",
      "{\"name\": \"orders_features\", \"full_name\": \"tpch.silver.orders_features\", \"type\": \"MANAGED\", \"description\": \"Orders feature table with order status, total price, date, and priority features\", \"columns\": [{\"name\": \"order_id\", \"nullable\": false, \"position\": 0, \"type_json\": \"{\\\"name\\\":\\\"order_id\\\",\\\"type\\\":\\\"long\\\",\\\"nullable\\\":false,\\\"metadata\\\":{}}\", \"type_name\": \"LONG\", \"type_precision\": 0, \"type_scale\": 0, \"type_text\": \"bigint\"}], \"constraints\": {\"primary_key_constraint\": {\"child_columns\": [\"order_id\"], \"name\": \"orders_features_pk\"}}, \"view_definition\": null, \"view_dependencies\": null}\n",
      "{\"name\": \"part_supplier_features\", \"full_name\": \"tpch.silver.part_supplier_features\", \"type\": \"MANAGED\", \"description\": \"Part supplier feature table with part type, size, retail price, available quantity, supply cost, supplier account balance, nation, and region features\", \"columns\": [{\"name\": \"part_id\", \"nullable\": false, \"position\": 0, \"type_json\": \"{\\\"name\\\":\\\"part_id\\\",\\\"type\\\":\\\"long\\\",\\\"nullable\\\":false,\\\"metadata\\\":{}}\", \"type_name\": \"LONG\", \"type_precision\": 0, \"type_scale\": 0, \"type_text\": \"bigint\"}], \"constraints\": {\"primary_key_constraint\": {\"child_columns\": [\"part_id\", \"supplier_id\"], \"name\": \"part_supplier_features_pk\"}}, \"view_definition\": null, \"view_dependencies\": null}\n",
      "\n",
      "\u001b[0m\u001b[32;1m\u001b[1;3m\n",
      "Invoking: `get_all_tables_info` with `{'catalog_name': 'tpch', 'schema_name': 'silver'}`\n",
      "\n",
      "\n",
      "\u001b[0m\u001b[33;1m\u001b[1;3m{\"name\": \"customer_features\", \"full_name\": \"tpch.silver.customer_features\", \"type\": \"MANAGED\", \"description\": \"Customer feature table with account balance, market segment, nation, and region features\", \"columns\": [{\"name\": \"customer_id\", \"nullable\": false, \"position\": 0, \"type_json\": \"{\\\"name\\\":\\\"customer_id\\\",\\\"type\\\":\\\"long\\\",\\\"nullable\\\":false,\\\"metadata\\\":{}}\", \"type_name\": \"LONG\", \"type_precision\": 0, \"type_scale\": 0, \"type_text\": \"bigint\"}], \"constraints\": {\"primary_key_constraint\": {\"child_columns\": [\"customer_id\"], \"name\": \"customer_features_pk\"}}, \"view_definition\": null, \"view_dependencies\": null}\n",
      "{\"name\": \"orders_features\", \"full_name\": \"tpch.silver.orders_features\", \"type\": \"MANAGED\", \"description\": \"Orders feature table with order status, total price, date, and priority features\", \"columns\": [{\"name\": \"order_id\", \"nullable\": false, \"position\": 0, \"type_json\": \"{\\\"name\\\":\\\"order_id\\\",\\\"type\\\":\\\"long\\\",\\\"nullable\\\":false,\\\"metadata\\\":{}}\", \"type_name\": \"LONG\", \"type_precision\": 0, \"type_scale\": 0, \"type_text\": \"bigint\"}], \"constraints\": {\"primary_key_constraint\": {\"child_columns\": [\"order_id\"], \"name\": \"orders_features_pk\"}}, \"view_definition\": null, \"view_dependencies\": null}\n",
      "{\"name\": \"part_supplier_features\", \"full_name\": \"tpch.silver.part_supplier_features\", \"type\": \"MANAGED\", \"description\": \"Part supplier feature table with part type, size, retail price, available quantity, supply cost, supplier account balance, nation, and region features\", \"columns\": [{\"name\": \"part_id\", \"nullable\": false, \"position\": 0, \"type_json\": \"{\\\"name\\\":\\\"part_id\\\",\\\"type\\\":\\\"long\\\",\\\"nullable\\\":false,\\\"metadata\\\":{}}\", \"type_name\": \"LONG\", \"type_precision\": 0, \"type_scale\": 0, \"type_text\": \"bigint\"}], \"constraints\": {\"primary_key_constraint\": {\"child_columns\": [\"part_id\", \"supplier_id\"], \"name\": \"part_supplier_features_pk\"}}, \"view_definition\": null, \"view_dependencies\": null}\n",
      "\n",
      "\u001b[0m\u001b[32;1m\u001b[1;3m```json\n",
      "[\n",
      "  \"customer_features\",\n",
      "  \"orders_features\",\n",
      "  \"part_supplier_features\"\n",
      "]\n",
      "```\u001b[0m\n",
      "\n",
      "\u001b[1m> Finished chain.\u001b[0m\n"
     ]
    },
    {
     "data": {
      "text/plain": [
       "{'catalog': 'tpch',\n",
       " 'query': \"List all the table names that are available in catalog 'tpch' under schema 'silver'\",\n",
       " 'chat_history': [HumanMessage(content='List all the table names that are available', additional_kwargs={}, response_metadata={}),\n",
       "  AIMessage(content='```json\\n[\\n  \"customer\",\\n  \"lineitem\",\\n  \"nation\",\\n  \"orders\",\\n  \"part\",\\n  \"partsupp\",\\n  \"region\",\\n  \"supplier\",\\n  \"customer_features\",\\n  \"orders_features\",\\n  \"part_supplier_features\"\\n]\\n```', additional_kwargs={}, response_metadata={}),\n",
       "  HumanMessage(content=\"List all the table names that are available in catalog 'tpch' under schema 'silver'\", additional_kwargs={}, response_metadata={}),\n",
       "  AIMessage(content='```json\\n[\\n  \"customer_features\",\\n  \"orders_features\",\\n  \"part_supplier_features\"\\n]\\n```', additional_kwargs={}, response_metadata={})],\n",
       " 'output': '```json\\n[\\n  \"customer_features\",\\n  \"orders_features\",\\n  \"part_supplier_features\"\\n]\\n```'}"
      ]
     },
     "execution_count": 68,
     "metadata": {},
     "output_type": "execute_result"
    }
   ],
   "source": [
    "agent_executor.invoke({\n",
    "    \"catalog\": \"tpch\",\n",
    "    \"query\": \"List all the table names that are available in catalog 'tpch' under schema 'silver'\",\n",
    "    \"chat_history\": memory.chat_memory.messages\n",
    "})"
   ]
  },
  {
   "cell_type": "code",
   "execution_count": 69,
   "id": "7df4992f",
   "metadata": {},
   "outputs": [
    {
     "name": "stdout",
     "output_type": "stream",
     "text": [
      "\n",
      "\n",
      "\u001b[1m> Entering new AgentExecutor chain...\u001b[0m\n",
      "\u001b[32;1m\u001b[1;3mUnauthorized to access, contact the Admin\u001b[0m\n",
      "\n",
      "\u001b[1m> Finished chain.\u001b[0m\n"
     ]
    },
    {
     "data": {
      "text/plain": [
       "{'catalog': 'tpch',\n",
       " 'query': \"List all the table names that are available in catalog 'workspace'\",\n",
       " 'chat_history': [HumanMessage(content='List all the table names that are available', additional_kwargs={}, response_metadata={}),\n",
       "  AIMessage(content='```json\\n[\\n  \"customer\",\\n  \"lineitem\",\\n  \"nation\",\\n  \"orders\",\\n  \"part\",\\n  \"partsupp\",\\n  \"region\",\\n  \"supplier\",\\n  \"customer_features\",\\n  \"orders_features\",\\n  \"part_supplier_features\"\\n]\\n```', additional_kwargs={}, response_metadata={}),\n",
       "  HumanMessage(content=\"List all the table names that are available in catalog 'tpch' under schema 'silver'\", additional_kwargs={}, response_metadata={}),\n",
       "  AIMessage(content='```json\\n[\\n  \"customer_features\",\\n  \"orders_features\",\\n  \"part_supplier_features\"\\n]\\n```', additional_kwargs={}, response_metadata={}),\n",
       "  HumanMessage(content=\"List all the table names that are available in catalog 'workspace'\", additional_kwargs={}, response_metadata={}),\n",
       "  AIMessage(content='Unauthorized to access, contact the Admin', additional_kwargs={}, response_metadata={})],\n",
       " 'output': 'Unauthorized to access, contact the Admin'}"
      ]
     },
     "execution_count": 69,
     "metadata": {},
     "output_type": "execute_result"
    }
   ],
   "source": [
    "agent_executor.invoke({\n",
    "    \"catalog\": \"tpch\",\n",
    "    \"query\": \"List all the table names that are available in catalog 'workspace'\",\n",
    "    \"chat_history\": memory.chat_memory.messages\n",
    "})"
   ]
  },
  {
   "cell_type": "code",
   "execution_count": null,
   "id": "fc7e7b60",
   "metadata": {},
   "outputs": [],
   "source": []
  },
  {
   "cell_type": "code",
   "execution_count": null,
   "id": "13613ee9",
   "metadata": {},
   "outputs": [],
   "source": []
  },
  {
   "cell_type": "code",
   "execution_count": null,
   "id": "5aff832b",
   "metadata": {},
   "outputs": [],
   "source": []
  },
  {
   "cell_type": "code",
   "execution_count": null,
   "id": "daa90327",
   "metadata": {},
   "outputs": [],
   "source": []
  },
  {
   "cell_type": "code",
   "execution_count": null,
   "id": "263e9a9e",
   "metadata": {},
   "outputs": [],
   "source": []
  },
  {
   "cell_type": "code",
   "execution_count": null,
   "id": "40db276f",
   "metadata": {},
   "outputs": [],
   "source": []
  },
  {
   "cell_type": "code",
   "execution_count": null,
   "id": "7d0648d0",
   "metadata": {},
   "outputs": [],
   "source": []
  },
  {
   "cell_type": "code",
   "execution_count": null,
   "id": "dcb4d272",
   "metadata": {},
   "outputs": [],
   "source": []
  },
  {
   "cell_type": "code",
   "execution_count": null,
   "id": "3c06df4d",
   "metadata": {},
   "outputs": [],
   "source": []
  }
 ],
 "metadata": {
  "kernelspec": {
   "display_name": "Lakehouse-RAG (3.11.4)",
   "language": "python",
   "name": "python3"
  },
  "language_info": {
   "codemirror_mode": {
    "name": "ipython",
    "version": 3
   },
   "file_extension": ".py",
   "mimetype": "text/x-python",
   "name": "python",
   "nbconvert_exporter": "python",
   "pygments_lexer": "ipython3",
   "version": "3.11.4"
  }
 },
 "nbformat": 4,
 "nbformat_minor": 5
}
