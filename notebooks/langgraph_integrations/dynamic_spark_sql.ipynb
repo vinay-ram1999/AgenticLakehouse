{
 "cells": [
  {
   "cell_type": "code",
   "execution_count": null,
   "id": "ed964386",
   "metadata": {},
   "outputs": [
    {
     "name": "stderr",
     "output_type": "stream",
     "text": [
      "/var/folders/cj/vf9_pm5d76v6svcvw6l13dv00000gn/T/ipykernel_24062/2998990699.py:89: LangChainBetaWarning: This API is in beta and may change in the future.\n",
      "  tool_objects = [query_spark_tool.as_tool(), info_spark_tool.as_tool(), list_spark_tool.as_tool(), check_spark_tool.as_tool(), SpqrkSQLResponse]\n"
     ]
    }
   ],
   "source": [
    "from dotenv import load_dotenv\n",
    "import os\n",
    "\n",
    "load_dotenv()\n",
    "\n",
    "from langchain_ollama.chat_models import ChatOllama\n",
    "from langchain_groq import ChatGroq\n",
    "\n",
    "# llm_model = ChatGroq(name=\"spark_sql\", model=\"openai/gpt-oss-120b\", temperature=0.0)\n",
    "llm_model = ChatOllama(name=\"spark_sql\", model=\"gpt-oss:120b-cloud\", temperature=0.0)\n",
    "\n",
    "from langchain_community.tools.spark_sql.tool import ( InfoSparkSQLTool, ListSparkSQLTool, QuerySparkSQLTool, QueryCheckerTool, )\n",
    "from langchain_community.agent_toolkits import SparkSQLToolkit\n",
    "from langchain_community.utilities.spark_sql import SparkSQL\n",
    "from langchain_core.tools import tool\n",
    "\n",
    "from pydantic import BaseModel, Field\n",
    "\n",
    "from pyspark.sql.connect.client.core import SparkConnectGrpcException\n",
    "from databricks.connect import DatabricksSession\n",
    "\n",
    "catalog = os.environ.get(\"UC_CATALOG_NAME\")\n",
    "schema = os.environ.get(\"UC_SCHEMA_NAME\")\n",
    "\n",
    "# --- Session factory ---\n",
    "def get_spark_session():\n",
    "    \"\"\"Get or create a live Databricks Serverless SparkSession.\"\"\"\n",
    "    try:\n",
    "        spark = DatabricksSession.builder.getOrCreate()\n",
    "    except SparkConnectGrpcException:\n",
    "        spark = DatabricksSession.builder.create()\n",
    "    return spark\n",
    "\n",
    "class SparkSQLResponse(BaseModel):\n",
    "    \"\"\"Always use this tool to structure your response to the user.\"\"\"\n",
    "    question: str = Field(..., description=\"The user question.\")\n",
    "    query: str = Field(..., description=\"The query you have executed using 'query_sql_db' tool.\")\n",
    "    response: str = Field(..., description=\"The final response after the query is executed.\")\n",
    "\n",
    "# --- Dynamic subclasses ---\n",
    "class DynamicQuerySparkSQLTool(QuerySparkSQLTool):\n",
    "    \"\"\"Dynamic variant of QuerySparkSQLTool with auto-refreshing SparkSession.\"\"\"\n",
    "\n",
    "    def _run(self, query: str, **kwargs):\n",
    "        _spark = get_spark_session()\n",
    "        self.db = SparkSQL(spark_session=_spark, catalog=catalog, schema=schema)\n",
    "        return super()._run(query, **kwargs)\n",
    "\n",
    "\n",
    "class DynamicInfoSparkSQLTool(InfoSparkSQLTool):\n",
    "    \"\"\"Dynamic variant of InfoSparkSQLTool.\"\"\"\n",
    "\n",
    "    def _run(self, table_names: str, **kwargs):\n",
    "        _spark = get_spark_session()\n",
    "        self.db = SparkSQL(spark_session=_spark, catalog=catalog, schema=schema)\n",
    "        return super()._run(table_names, **kwargs)\n",
    "\n",
    "\n",
    "class DynamicListSparkSQLTool(ListSparkSQLTool):\n",
    "    \"\"\"Dynamic variant of ListSparkSQLTool.\"\"\"\n",
    "\n",
    "    def _run(self, tool_input: str = \"\", **kwargs):\n",
    "        _spark = get_spark_session()\n",
    "        self.db = SparkSQL(spark_session=_spark, catalog=catalog, schema=schema)\n",
    "        return super()._run(tool_input, **kwargs)\n",
    "\n",
    "\n",
    "class DynamicQueryCheckerTool(QueryCheckerTool):\n",
    "    \"\"\"Dynamic variant of QueryCheckerTool.\"\"\"\n",
    "\n",
    "    def _run(self, query: str, **kwargs):\n",
    "        _spark = get_spark_session()\n",
    "        self.db = SparkSQL(spark_session=_spark, catalog=catalog, schema=schema)\n",
    "        return super()._run(query, **kwargs)\n",
    "\n",
    "    async def _arun(self, query: str, **kwargs):\n",
    "        _spark = get_spark_session()\n",
    "        self.db = SparkSQL(spark_session=_spark, catalog=catalog, schema=schema)\n",
    "        return await super()._arun(query, **kwargs)\n",
    "\n",
    "spark = get_spark_session()\n",
    "spark_sql = SparkSQL(spark_session=spark, catalog=catalog, schema=schema)\n",
    "\n",
    "query_spark_tool = DynamicQuerySparkSQLTool(db=spark_sql)\n",
    "info_spark_tool = DynamicInfoSparkSQLTool(db=spark_sql)\n",
    "list_spark_tool = DynamicListSparkSQLTool(db=spark_sql)\n",
    "check_spark_tool = DynamicQueryCheckerTool(db=spark_sql, llm=llm_model)\n",
    "\n",
    "tool_objects = [query_spark_tool.as_tool(), info_spark_tool.as_tool(), list_spark_tool.as_tool(), check_spark_tool.as_tool(), SparkSQLResponse]"
   ]
  },
  {
   "cell_type": "code",
   "execution_count": 2,
   "id": "d28d4755",
   "metadata": {},
   "outputs": [],
   "source": [
    "from langchain_core.prompts import ChatPromptTemplate, MessagesPlaceholder, SystemMessagePromptTemplate, HumanMessagePromptTemplate\n",
    "\n",
    "SYSTEM_PROMPT = \"\"\"\n",
    "## Role\n",
    "\n",
    "You are a **Spark SQL tool-using agent** responsible for answering data-related questions by generating and executing SQL queries on a Databricks Lakehouse environment.  \n",
    "You interact with Spark through a live Spark session and must always use the **Spark SQL dialect** when writing queries.\n",
    "\n",
    "You MUST use the provided tools to obtain all information — never rely on your own assumptions or memory.  \n",
    "Do **not** respond conversationally or with confirmations like \"Got it\".  \n",
    "Every single response must either:\n",
    "1. Call one or more tools to gather information or execute queries, OR\n",
    "2. Return a final output containing both the executed SQL query and its markdown-formatted results.\n",
    "\n",
    "---\n",
    "\n",
    "## Environment Context\n",
    "\n",
    "- The Spark session is connected to the Databricks Lakehouse using **Databricks Connect**.\n",
    "- Use the following catalog and schema names:\n",
    "  - **Catalog:** `{CATALOG_NAME}`\n",
    "  - **Schema:** `{SCHEMA_NAME}`\n",
    "- All queries must explicitly reference this context in the form:\n",
    "\n",
    "```\n",
    "SELECT * FROM <catalog>.<schema>.<table_name>\n",
    "```\n",
    "\n",
    "- Always use Spark SQL dialect conventions (Databricks SQL), including functions, syntax, and operators supported by Spark 3.x+.\n",
    "\n",
    "## Tool Usage Policy\n",
    "\n",
    "For **every user query**:\n",
    "1. Start by calling `list_tables_sql_db` to see what tables exist. If that is all the user asked then return these results.\n",
    "2. Then call `schema_sql_db` for any relevant tables to understand structure and columns.  \n",
    "3. Use that schema information to construct a **fully qualified** Spark SQL query referencing the correct catalog and schema.  \n",
    "4. Validate the query using `query_checker_sql_db`.  \n",
    "5. Execute it via `query_sql_db`.  \n",
    "\n",
    "If any tool (especially `query_sql_db`) returns an error, summarize it clearly.  \n",
    "Do **not** include full stack traces — only the main error message and a concise explanation.\n",
    "\n",
    "## Critical Reminders\n",
    "- Always use **fully qualified table names**: `<catalog>.<schema>.<table>`.\n",
    "- Use **Spark SQL syntax only** (no T-SQL, MySQL, or Postgres syntax).\n",
    "- Do not invent column names, table names, or joins.\n",
    "- Only base your queries on information gathered from the tools.\n",
    "- Return concise, structured, markdown-formatted outputs.\n",
    "\"\"\"\n",
    "\n",
    "prompt = ChatPromptTemplate.from_messages(\n",
    "    [\n",
    "        (\"system\", SYSTEM_PROMPT.format(**{\"CATALOG_NAME\": catalog, \"SCHEMA_NAME\": schema})),\n",
    "        # (\"user\", user_prompt),\n",
    "        # Placeholders fill up a **list** of messages\n",
    "        (\"placeholder\", \"{messages}\"),\n",
    "        (\"placeholder\", \"{agent_scratchpad}\"),\n",
    "    ]\n",
    ")"
   ]
  },
  {
   "cell_type": "code",
   "execution_count": 3,
   "id": "ab34bc27",
   "metadata": {},
   "outputs": [],
   "source": [
    "from langgraph.checkpoint.memory import MemorySaver \n",
    "from langgraph.prebuilt import create_react_agent\n",
    "from langgraph.errors import GraphRecursionError\n",
    "\n",
    "RECURSION_LIMIT = 5\n",
    "\n",
    "memory = MemorySaver()\n",
    "tools = [tool_object for tool_object in tool_objects]\n",
    "\n",
    "langgraph_agent_executor = create_react_agent(llm_model, tools, prompt=prompt, checkpointer=memory)\n",
    "langgraph_agent_executor.step_timeout = None\n",
    "\n",
    "config = {\"configurable\": {\"thread_id\": \"test-thread\"}}\n",
    "query = \"List the top 3 nations based on the total number of customers from that nation.\""
   ]
  },
  {
   "cell_type": "code",
   "execution_count": 4,
   "id": "42de1f9b",
   "metadata": {},
   "outputs": [
    {
     "data": {
      "text/plain": [
       "{'messages': [HumanMessage(content='List the top 3 nations based on the total number of customers from that nation.', additional_kwargs={}, response_metadata={}, id='b543a395-6e67-4909-a153-75ecc9443b70'),\n",
       "  AIMessage(content='', additional_kwargs={}, response_metadata={'model': 'gpt-oss:120b-cloud', 'created_at': '2025-10-23T18:07:19.092992708Z', 'done': True, 'done_reason': 'stop', 'total_duration': 588072360, 'load_duration': None, 'prompt_eval_count': 1041, 'prompt_eval_duration': None, 'eval_count': 58, 'eval_duration': None, 'model_name': 'gpt-oss:120b-cloud'}, id='run--6aede515-b1f1-4389-b38a-7fdfe8756a47-0', tool_calls=[{'name': 'list_tables_sql_db', 'args': {'tool_input': ''}, 'id': 'b92b0ee0-9141-413e-879e-69117708067b', 'type': 'tool_call'}], usage_metadata={'input_tokens': 1041, 'output_tokens': 58, 'total_tokens': 1099}),\n",
       "  ToolMessage(content='customer, lineitem, nation, orders, part, partsupp, region, supplier', name='list_tables_sql_db', id='20cda84e-d7b5-4ccd-ba1b-82e973da0c93', tool_call_id='b92b0ee0-9141-413e-879e-69117708067b'),\n",
       "  AIMessage(content='', additional_kwargs={}, response_metadata={'model': 'gpt-oss:120b-cloud', 'created_at': '2025-10-23T18:07:20.57643502Z', 'done': True, 'done_reason': 'stop', 'total_duration': 774799580, 'load_duration': None, 'prompt_eval_count': 1095, 'prompt_eval_duration': None, 'eval_count': 60, 'eval_duration': None, 'model_name': 'gpt-oss:120b-cloud'}, id='run--c222eb0f-38be-45f0-9306-c76deb4f0e56-0', tool_calls=[{'name': 'schema_sql_db', 'args': {'table_names': 'tpch.bronze.nation,tpch.bronze.customer'}, 'id': 'da1218fe-82f7-4d81-97b7-e82ca43cc786', 'type': 'tool_call'}], usage_metadata={'input_tokens': 1095, 'output_tokens': 60, 'total_tokens': 1155}),\n",
       "  ToolMessage(content=\"Error: table_names {'tpch.bronze.nation,tpch.bronze.customer'} not found in database\", name='schema_sql_db', id='39ac03b3-f634-4b8d-971c-3d2e5e9e50a2', tool_call_id='da1218fe-82f7-4d81-97b7-e82ca43cc786'),\n",
       "  AIMessage(content='', additional_kwargs={}, response_metadata={'model': 'gpt-oss:120b-cloud', 'created_at': '2025-10-23T18:07:22.296093415Z', 'done': True, 'done_reason': 'stop', 'total_duration': 981781597, 'load_duration': None, 'prompt_eval_count': 1165, 'prompt_eval_duration': None, 'eval_count': 76, 'eval_duration': None, 'model_name': 'gpt-oss:120b-cloud'}, id='run--b171353a-c07b-4fc5-ac3d-e6118bfcbf8d-0', tool_calls=[{'name': 'schema_sql_db', 'args': {'table_names': 'nation,customer'}, 'id': '0c20a3b9-2dd5-46a3-a085-e0f5886539b9', 'type': 'tool_call'}], usage_metadata={'input_tokens': 1165, 'output_tokens': 76, 'total_tokens': 1241}),\n",
       "  ToolMessage(content=\"Error: table_names {'nation,customer'} not found in database\", name='schema_sql_db', id='6a185de9-3139-41b0-b293-d0b973c1092f', tool_call_id='0c20a3b9-2dd5-46a3-a085-e0f5886539b9'),\n",
       "  AIMessage(content='', additional_kwargs={}, response_metadata={'model': 'gpt-oss:120b-cloud', 'created_at': '2025-10-23T18:07:23.753584058Z', 'done': True, 'done_reason': 'stop', 'total_duration': 790066832, 'load_duration': None, 'prompt_eval_count': 1215, 'prompt_eval_duration': None, 'eval_count': 81, 'eval_duration': None, 'model_name': 'gpt-oss:120b-cloud'}, id='run--5400ac59-3dac-4ae7-96d3-f6965df4cb19-0', tool_calls=[{'name': 'schema_sql_db', 'args': {'table_names': 'tpch.bronze.nation'}, 'id': 'e0643912-4275-4b42-b64e-8d66291a3310', 'type': 'tool_call'}], usage_metadata={'input_tokens': 1215, 'output_tokens': 81, 'total_tokens': 1296}),\n",
       "  ToolMessage(content=\"Error: table_names {'tpch.bronze.nation'} not found in database\", name='schema_sql_db', id='d5c0dbf5-fdc7-486e-88ce-992a371b8753', tool_call_id='e0643912-4275-4b42-b64e-8d66291a3310'),\n",
       "  AIMessage(content='', additional_kwargs={}, response_metadata={'model': 'gpt-oss:120b-cloud', 'created_at': '2025-10-23T18:07:27.121849071Z', 'done': True, 'done_reason': 'stop', 'total_duration': 2618558489, 'load_duration': None, 'prompt_eval_count': 1273, 'prompt_eval_duration': None, 'eval_count': 274, 'eval_duration': None, 'model_name': 'gpt-oss:120b-cloud'}, id='run--d5c77484-9d3d-487d-8f7b-4aeb480a6d24-0', tool_calls=[{'name': 'schema_sql_db', 'args': {'table_names': 'nation'}, 'id': '40a2fcff-960a-42a8-876a-bd6444f3f326', 'type': 'tool_call'}], usage_metadata={'input_tokens': 1273, 'output_tokens': 274, 'total_tokens': 1547}),\n",
       "  ToolMessage(content='CREATE TABLE tpch.bronze.nation (\\n  n_nationkey BIGINT,\\n  n_name STRING,\\n  n_regionkey BIGINT,\\n  n_comment STRING)\\n;\\n\\n/*\\n3 rows from nation table:\\nn_nationkey\\tn_name\\tn_regionkey\\tn_comment\\n0\\tALGERIA\\t0\\t haggle. carefully final deposits detect slyly agai\\n1\\tARGENTINA\\t1\\tal foxes promise slyly according to the regular accounts. bold requests alon\\n2\\tBRAZIL\\t1\\ty alongside of the pending deposits. carefully special packages are about the ironic forges. slyly special \\n*/', name='schema_sql_db', id='380540fd-8ff5-4e77-b1a4-ba6ab1e925ba', tool_call_id='40a2fcff-960a-42a8-876a-bd6444f3f326'),\n",
       "  AIMessage(content='', additional_kwargs={}, response_metadata={'model': 'gpt-oss:120b-cloud', 'created_at': '2025-10-23T18:07:30.277275418Z', 'done': True, 'done_reason': 'stop', 'total_duration': 1255271852, 'load_duration': None, 'prompt_eval_count': 1436, 'prompt_eval_duration': None, 'eval_count': 58, 'eval_duration': None, 'model_name': 'gpt-oss:120b-cloud'}, id='run--ec8faa83-d6b8-4b68-ac64-0b290bcfae49-0', tool_calls=[{'name': 'schema_sql_db', 'args': {'table_names': 'customer'}, 'id': '316aa56e-58da-45eb-aa80-717364ffd257', 'type': 'tool_call'}], usage_metadata={'input_tokens': 1436, 'output_tokens': 58, 'total_tokens': 1494}),\n",
       "  ToolMessage(content='CREATE TABLE tpch.bronze.customer (\\n  c_custkey BIGINT,\\n  c_name STRING,\\n  c_address STRING,\\n  c_nationkey BIGINT,\\n  c_phone STRING,\\n  c_acctbal DECIMAL(18,2),\\n  c_mktsegment STRING,\\n  c_comment STRING)\\n;\\n\\n/*\\n3 rows from customer table:\\nc_custkey\\tc_name\\tc_address\\tc_nationkey\\tc_phone\\tc_acctbal\\tc_mktsegment\\tc_comment\\n412445\\tCustomer#000412445\\t0QAB3OjYnbP6mA0B,kgf\\t21\\t31-421-403-4333\\t5358.33\\tBUILDING\\tarefully blithely regular epi\\n412446\\tCustomer#000412446\\t5u8MSbyiC7J,7PuY4Ivaq1JRbTCMKeNVqg \\t20\\t30-487-949-7942\\t9441.59\\tMACHINERY\\tsleep according to the fluffily even forges. fluffily careful packages after the ironic, silent deposi\\n412447\\tCustomer#000412447\\tHC4ZT62gKPgrjr ceoaZgFOunlUogr7GO\\t7\\t17-797-466-6308\\t7868.75\\tAUTOMOBILE\\taggle blithely among the carefully express excus\\n*/', name='schema_sql_db', id='1fa0ecda-7363-4de3-b54b-d05def55f76b', tool_call_id='316aa56e-58da-45eb-aa80-717364ffd257'),\n",
       "  AIMessage(content='', additional_kwargs={}, response_metadata={'model': 'gpt-oss:120b-cloud', 'created_at': '2025-10-23T18:07:34.442832189Z', 'done': True, 'done_reason': 'stop', 'total_duration': 1564028950, 'load_duration': None, 'prompt_eval_count': 1761, 'prompt_eval_duration': None, 'eval_count': 153, 'eval_duration': None, 'model_name': 'gpt-oss:120b-cloud'}, id='run--f9f13dc4-86dd-44f1-aa45-6bb46dc4303a-0', tool_calls=[{'name': 'query_checker_sql_db', 'args': {'query': 'SELECT n.n_name AS nation, COUNT(*) AS customer_count FROM tpch.bronze.customer c JOIN tpch.bronze.nation n ON c.c_nationkey = n.n_nationkey GROUP BY n.n_name ORDER BY customer_count DESC LIMIT 3'}, 'id': 'c0928aa6-0608-456f-9a20-693417f1bccd', 'type': 'tool_call'}], usage_metadata={'input_tokens': 1761, 'output_tokens': 153, 'total_tokens': 1914}),\n",
       "  ToolMessage(content='SELECT n.n_name AS nation,\\n       COUNT(*) AS customer_count\\nFROM   tpch.bronze.customer c\\nJOIN   tpch.bronze.nation n\\n       ON c.c_nationkey = n.n_nationkey\\nGROUP BY n.n_name\\nORDER BY customer_count DESC\\nLIMIT 3;', name='query_checker_sql_db', id='aa5d67a4-1b53-49c4-b618-665baa767863', tool_call_id='c0928aa6-0608-456f-9a20-693417f1bccd'),\n",
       "  AIMessage(content='', additional_kwargs={}, response_metadata={'model': 'gpt-oss:120b-cloud', 'created_at': '2025-10-23T18:07:38.383766881Z', 'done': True, 'done_reason': 'stop', 'total_duration': 1210804454, 'load_duration': None, 'prompt_eval_count': 1915, 'prompt_eval_duration': None, 'eval_count': 89, 'eval_duration': None, 'model_name': 'gpt-oss:120b-cloud'}, id='run--c866409b-5697-454b-956e-baa27852653b-0', tool_calls=[{'name': 'query_sql_db', 'args': {'query': 'SELECT n.n_name AS nation, COUNT(*) AS customer_count FROM tpch.bronze.customer c JOIN tpch.bronze.nation n ON c.c_nationkey = n.n_nationkey GROUP BY n.n_name ORDER BY customer_count DESC LIMIT 3'}, 'id': 'd98f8e6b-7865-4eb4-9d67-2aeab66a6159', 'type': 'tool_call'}], usage_metadata={'input_tokens': 1915, 'output_tokens': 89, 'total_tokens': 2004}),\n",
       "  ToolMessage(content=\"[('INDONESIA', '30401'), ('IRAN', '30257'), ('INDIA', '30234')]\", name='query_sql_db', id='d4cf9ecb-1859-40c4-bbf6-9c5d6a7b6b11', tool_call_id='d98f8e6b-7865-4eb4-9d67-2aeab66a6159'),\n",
       "  AIMessage(content='', additional_kwargs={}, response_metadata={'model': 'gpt-oss:120b-cloud', 'created_at': '2025-10-23T18:07:41.970403689Z', 'done': True, 'done_reason': 'stop', 'total_duration': 1547566277, 'load_duration': None, 'prompt_eval_count': 2028, 'prompt_eval_duration': None, 'eval_count': 183, 'eval_duration': None, 'model_name': 'gpt-oss:120b-cloud'}, id='run--1ce6f407-5010-4745-9576-a6a7510d090a-0', tool_calls=[{'name': 'SpqrkSQLResponse', 'args': {'query': 'SELECT n.n_name AS nation, COUNT(*) AS customer_count FROM tpch.bronze.customer c JOIN tpch.bronze.nation n ON c.c_nationkey = n.n_nationkey GROUP BY n.n_name ORDER BY customer_count DESC LIMIT 3', 'question': 'List the top 3 nations based on the total number of customers from that nation.', 'response': '| nation   | customer_count |\\n|----------|----------------|\\n| INDONESIA| 30401 |\\n| IRAN     | 30257 |\\n| INDIA    | 30234 |'}, 'id': '5f4676bd-543f-415e-8473-2977949029da', 'type': 'tool_call'}], usage_metadata={'input_tokens': 2028, 'output_tokens': 183, 'total_tokens': 2211}),\n",
       "  ToolMessage(content=\"question='List the top 3 nations based on the total number of customers from that nation.' query='SELECT n.n_name AS nation, COUNT(*) AS customer_count FROM tpch.bronze.customer c JOIN tpch.bronze.nation n ON c.c_nationkey = n.n_nationkey GROUP BY n.n_name ORDER BY customer_count DESC LIMIT 3' response='| nation   | customer_count |\\\\n|----------|----------------|\\\\n| INDONESIA| 30401 |\\\\n| IRAN     | 30257 |\\\\n| INDIA    | 30234 |'\", name='SpqrkSQLResponse', id='235aa452-93ad-41e1-9133-456af08a88c3', tool_call_id='5f4676bd-543f-415e-8473-2977949029da'),\n",
       "  AIMessage(content='**Question:** List the top 3 nations based on the total number of customers from that nation.  \\n\\n**SQL Query Executed**\\n\\n```sql\\nSELECT n.n_name AS nation,\\n       COUNT(*) AS customer_count\\nFROM   tpch.bronze.customer c\\nJOIN   tpch.bronze.nation n\\n       ON c.c_nationkey = n.n_nationkey\\nGROUP BY n.n_name\\nORDER BY customer_count DESC\\nLIMIT 3;\\n```\\n\\n**Result**\\n\\n| nation    | customer_count |\\n|-----------|----------------|\\n| INDONESIA | 30,401 |\\n| IRAN      | 30,257 |\\n| INDIA     | 30,234 |', additional_kwargs={}, response_metadata={'model': 'gpt-oss:120b-cloud', 'created_at': '2025-10-23T18:07:43.544093568Z', 'done': True, 'done_reason': 'stop', 'total_duration': 1434885764, 'load_duration': None, 'prompt_eval_count': 2304, 'prompt_eval_duration': None, 'eval_count': 145, 'eval_duration': None, 'model_name': 'gpt-oss:120b-cloud'}, id='run--6d73b7fc-bfc4-4e40-b465-b6aa396c2f4e-0', usage_metadata={'input_tokens': 2304, 'output_tokens': 145, 'total_tokens': 2449})]}"
      ]
     },
     "execution_count": 4,
     "metadata": {},
     "output_type": "execute_result"
    }
   ],
   "source": [
    "out = langgraph_agent_executor.invoke({\"messages\": [(\"user\", query)]}, config=config)\n",
    "out"
   ]
  },
  {
   "cell_type": "code",
   "execution_count": 5,
   "id": "30a454cd",
   "metadata": {},
   "outputs": [
    {
     "data": {
      "text/plain": [
       "'customer, lineitem, nation, orders, part, partsupp, region, supplier'"
      ]
     },
     "execution_count": 5,
     "metadata": {},
     "output_type": "execute_result"
    }
   ],
   "source": [
    "list_spark_tool.run(tool_input=\"\")"
   ]
  },
  {
   "cell_type": "code",
   "execution_count": 6,
   "id": "a102b8c5",
   "metadata": {},
   "outputs": [
    {
     "data": {
      "text/plain": [
       "'CREATE TABLE tpch.bronze.customer (\\n  c_custkey BIGINT,\\n  c_name STRING,\\n  c_address STRING,\\n  c_nationkey BIGINT,\\n  c_phone STRING,\\n  c_acctbal DECIMAL(18,2),\\n  c_mktsegment STRING,\\n  c_comment STRING)\\n;\\n\\n/*\\n3 rows from customer table:\\nc_custkey\\tc_name\\tc_address\\tc_nationkey\\tc_phone\\tc_acctbal\\tc_mktsegment\\tc_comment\\n412445\\tCustomer#000412445\\t0QAB3OjYnbP6mA0B,kgf\\t21\\t31-421-403-4333\\t5358.33\\tBUILDING\\tarefully blithely regular epi\\n412446\\tCustomer#000412446\\t5u8MSbyiC7J,7PuY4Ivaq1JRbTCMKeNVqg \\t20\\t30-487-949-7942\\t9441.59\\tMACHINERY\\tsleep according to the fluffily even forges. fluffily careful packages after the ironic, silent deposi\\n412447\\tCustomer#000412447\\tHC4ZT62gKPgrjr ceoaZgFOunlUogr7GO\\t7\\t17-797-466-6308\\t7868.75\\tAUTOMOBILE\\taggle blithely among the carefully express excus\\n*/\\n\\nCREATE TABLE tpch.bronze.lineitem (\\n  l_orderkey BIGINT,\\n  l_partkey BIGINT,\\n  l_suppkey BIGINT,\\n  l_linenumber INT,\\n  l_quantity DECIMAL(18,2),\\n  l_extendedprice DECIMAL(18,2),\\n  l_discount DECIMAL(18,2),\\n  l_tax DECIMAL(18,2),\\n  l_returnflag STRING,\\n  l_linestatus STRING,\\n  l_shipdate DATE,\\n  l_commitdate DATE,\\n  l_receiptdate DATE,\\n  l_shipinstruct STRING,\\n  l_shipmode STRING,\\n  l_comment STRING)\\n;\\n\\n/*\\n3 rows from lineitem table:\\nl_orderkey\\tl_partkey\\tl_suppkey\\tl_linenumber\\tl_quantity\\tl_extendedprice\\tl_discount\\tl_tax\\tl_returnflag\\tl_linestatus\\tl_shipdate\\tl_commitdate\\tl_receiptdate\\tl_shipinstruct\\tl_shipmode\\tl_comment\\n15997987\\t295335\\t20346\\t4\\t50.00\\t66516.00\\t0.01\\t0.08\\tA\\tF\\t1992-02-12\\t1992-04-22\\t1992-03-10\\tTAKE BACK RETURN\\tREG AIR\\t even pinto beans. ironic reque\\n15997988\\t332059\\t19578\\t1\\t49.00\\t53460.96\\t0.08\\t0.03\\tA\\tF\\t1994-05-31\\t1994-06-20\\t1994-06-22\\tNONE\\tFOB\\tdetect carefully. idly r\\n15997988\\t904286\\t4287\\t2\\t37.00\\t47738.88\\t0.07\\t0.05\\tA\\tF\\t1994-05-24\\t1994-05-28\\t1994-06-03\\tCOLLECT COD\\tRAIL\\t the slyly e\\n*/'"
      ]
     },
     "execution_count": 6,
     "metadata": {},
     "output_type": "execute_result"
    }
   ],
   "source": [
    "info_spark_tool.run(tool_input=\"customer, lineitem\")"
   ]
  },
  {
   "cell_type": "code",
   "execution_count": null,
   "id": "10b1ec92",
   "metadata": {},
   "outputs": [],
   "source": []
  }
 ],
 "metadata": {
  "kernelspec": {
   "display_name": "Lakehouse-RAG (3.11.4)",
   "language": "python",
   "name": "python3"
  },
  "language_info": {
   "codemirror_mode": {
    "name": "ipython",
    "version": 3
   },
   "file_extension": ".py",
   "mimetype": "text/x-python",
   "name": "python",
   "nbconvert_exporter": "python",
   "pygments_lexer": "ipython3",
   "version": "3.11.4"
  }
 },
 "nbformat": 4,
 "nbformat_minor": 5
}
