{
 "cells": [
  {
   "cell_type": "code",
   "execution_count": 1,
   "id": "91b9a8d5",
   "metadata": {},
   "outputs": [
    {
     "data": {
      "text/plain": [
       "True"
      ]
     },
     "execution_count": 1,
     "metadata": {},
     "output_type": "execute_result"
    }
   ],
   "source": [
    "from dotenv import load_dotenv\n",
    "import os\n",
    "load_dotenv()"
   ]
  },
  {
   "cell_type": "code",
   "execution_count": 6,
   "id": "d2699462",
   "metadata": {},
   "outputs": [],
   "source": [
    "from langchain_community.agent_toolkits import SparkSQLToolkit\n",
    "from langchain_community.utilities.spark_sql import SparkSQL\n",
    "from langchain_groq import ChatGroq\n",
    "from langchain_ollama.chat_models import ChatOllama\n",
    "\n",
    "from pyspark.sql.connect.client.core import SparkConnectGrpcException\n",
    "from databricks.connect import DatabricksSession\n",
    "\n",
    "# llm_model = ChatGroq(name=\"spark_sql\", model=\"openai/gpt-oss-120b\", temperature=0.0)\n",
    "llm_model = ChatOllama(name=\"spark_sql\", model=\"gpt-oss:120b-cloud\", temperature=0.0)\n",
    "\n",
    "try:\n",
    "    spark = DatabricksSession.builder.getOrCreate()\n",
    "    spark_sql = SparkSQL(spark_session=spark, catalog=os.environ.get(\"UC_CATALOG_NAME\"), schema=os.environ.get(\"UC_SCHEMA_NAME\"))\n",
    "    toolkit = SparkSQLToolkit(db=spark_sql, llm=llm_model)\n",
    "except SparkConnectGrpcException:\n",
    "    spark = DatabricksSession.builder.create()\n",
    "    spark_sql = SparkSQL(spark_session=spark, catalog=os.environ.get(\"UC_CATALOG_NAME\"), schema=os.environ.get(\"UC_SCHEMA_NAME\"))\n",
    "    toolkit = SparkSQLToolkit(db=spark_sql, llm=llm_model)"
   ]
  },
  {
   "cell_type": "code",
   "execution_count": null,
   "id": "35816b6d",
   "metadata": {},
   "outputs": [],
   "source": [
    "from langgraph.graph import StateGraph, add_messages, END\n",
    "from pydantic import BaseModel\n",
    "from typing import Annotated\n",
    "import operator\n",
    "\n",
    "class SparkSQLState(BaseModel):\n",
    "    \"\"\"The state of the Spark SQL agent.\"\"\"\n",
    "    messages: Annotated[list, add_messages] = []"
   ]
  },
  {
   "cell_type": "code",
   "execution_count": 22,
   "id": "1bce1d54",
   "metadata": {},
   "outputs": [
    {
     "name": "stderr",
     "output_type": "stream",
     "text": [
      "/var/folders/cj/vf9_pm5d76v6svcvw6l13dv00000gn/T/ipykernel_14381/1897125334.py:1: LangChainBetaWarning: This API is in beta and may change in the future.\n",
      "  tools = [tool.as_tool() for tool in toolkit.get_tools()]\n"
     ]
    }
   ],
   "source": [
    "tools = [tool.as_tool() for tool in toolkit.get_tools()]"
   ]
  },
  {
   "cell_type": "code",
   "execution_count": 23,
   "id": "a35b4cf7",
   "metadata": {},
   "outputs": [],
   "source": [
    "llm_with_tools = llm_model.bind_tools(tools)"
   ]
  },
  {
   "cell_type": "code",
   "execution_count": 24,
   "id": "32fe8be0",
   "metadata": {},
   "outputs": [],
   "source": [
    "SYSTEM_PROMPT = \"\"\"\n",
    "## Role\n",
    "\n",
    "You are a **Spark SQL tool-using agent** responsible for answering data-related questions by generating and executing SQL queries on a Databricks Lakehouse environment.  \n",
    "You interact with Spark through a live Spark session and must always use the **Spark SQL dialect** when writing queries.\n",
    "\n",
    "You MUST use the provided tools to obtain all information — never rely on your own assumptions or memory.  \n",
    "Do **not** respond conversationally or with confirmations like \"Got it\".  \n",
    "Every single response must either:\n",
    "1. Call one or more tools to gather information or execute queries, OR\n",
    "2. Return a final output containing both the executed SQL query and its markdown-formatted results.\n",
    "\n",
    "---\n",
    "\n",
    "## Environment Context\n",
    "\n",
    "- The Spark session is connected to the Databricks Lakehouse using **Databricks Connect**.\n",
    "- Use the following catalog and schema names:\n",
    "  - **Catalog:** `${CATALOG_NAME}`\n",
    "  - **Schema:** `${SCHEMA_NAME}`\n",
    "- All queries must explicitly reference this context in the form:\n",
    "\n",
    "```\n",
    "SELECT * FROM <catalog>.<schema>.<table_name>\n",
    "```\n",
    "\n",
    "- Always use Spark SQL dialect conventions (Databricks SQL), including functions, syntax, and operators supported by Spark 3.x+.\n",
    "\n",
    "## Tool Usage Policy\n",
    "\n",
    "For **every user query**:\n",
    "1. Start by calling `list_tables_sql_db` to see what tables exist. If that is all the user asked then return these results.\n",
    "2. Then call `schema_sql_db` for any relevant tables to understand structure and columns.  \n",
    "3. Use that schema information to construct a **fully qualified** Spark SQL query referencing the correct catalog and schema.  \n",
    "4. Validate the query using `query_checker_sql_db`.  \n",
    "5. Execute it via `query_sql_db`.  \n",
    "\n",
    "If any tool (especially `query_sql_db`) returns an error, summarize it clearly.  \n",
    "Do **not** include full stack traces — only the main error message and a concise explanation.\n",
    "\n",
    "## Critical Reminders\n",
    "- Always use **fully qualified table names**: `<catalog>.<schema>.<table>`.\n",
    "- Use **Spark SQL syntax only** (no T-SQL, MySQL, or Postgres syntax).\n",
    "- Do not invent column names, table names, or joins.\n",
    "- Only base your queries on information gathered from the tools.\n",
    "- Return concise, structured, markdown-formatted outputs.\n",
    "\"\"\""
   ]
  },
  {
   "cell_type": "code",
   "execution_count": 25,
   "id": "a1d5618a",
   "metadata": {},
   "outputs": [],
   "source": [
    "from langchain_core.messages import SystemMessage\n",
    "\n",
    "def spark_sql(state: SparkSQLState):\n",
    "    \"\"\"The main Spark SQL agent.\"\"\"\n",
    "    response = llm_with_tools.invoke([SystemMessage(content=SYSTEM_PROMPT.format(**{\"CATALOG_NAME\": os.environ.get(\"UC_CATALOG_NAME\"), \"SCHEMA_NAME\": os.environ.get(\"UC_SCHEMA_NAME\")}))] + state.messages)\n",
    "    return {\"messages\": [response]}\n",
    "\n",
    "def spark_sql_router(state: SparkSQLState) -> str:\n",
    "    \"\"\"Route to the tools node if the researcher makes a tool call.\"\"\"\n",
    "    if state.messages[-1].tool_calls:\n",
    "        return \"tools\"\n",
    "    return END"
   ]
  },
  {
   "cell_type": "code",
   "execution_count": 26,
   "id": "ea774594",
   "metadata": {},
   "outputs": [],
   "source": [
    "from langgraph.prebuilt import ToolNode\n",
    "\n",
    "builder = StateGraph(SparkSQLState)\n",
    "\n",
    "builder.add_node(spark_sql)\n",
    "builder.add_node(\"tools\", ToolNode(tools))\n",
    "\n",
    "builder.set_entry_point(\"spark_sql\")\n",
    "builder.add_edge(\"tools\", \"spark_sql\")\n",
    "builder.add_conditional_edges(\n",
    "    \"spark_sql\",\n",
    "    spark_sql_router,\n",
    "    {\n",
    "        \"tools\": \"tools\",\n",
    "        END: END,\n",
    "    }\n",
    ")\n",
    "graph = builder.compile()"
   ]
  },
  {
   "cell_type": "code",
   "execution_count": 27,
   "id": "abb74170",
   "metadata": {},
   "outputs": [
    {
     "data": {
      "image/png": "[encoded data removed]",
      "text/plain": [
       "<IPython.core.display.Image object>"
      ]
     },
     "execution_count": 27,
     "metadata": {},
     "output_type": "execute_result"
    }
   ],
   "source": [
    "# Visualize the graph\n",
    "from IPython.display import Image\n",
    "Image(graph.get_graph().draw_mermaid_png())"
   ]
  },
  {
   "cell_type": "code",
   "execution_count": 28,
   "id": "403a9b80",
   "metadata": {},
   "outputs": [
    {
     "data": {
      "text/plain": [
       "{'messages': [AIMessage(content='I’m ready to help with your data question. Please provide the details of what you’d like to know or the analysis you need.', additional_kwargs={}, response_metadata={'model': 'gpt-oss:120b-cloud', 'created_at': '2025-10-08T21:55:32.018944506Z', 'done': True, 'done_reason': 'stop', 'total_duration': 2111394376, 'load_duration': None, 'prompt_eval_count': 858, 'prompt_eval_duration': None, 'eval_count': 83, 'eval_duration': None, 'model_name': 'gpt-oss:120b-cloud'}, id='run--5a6e4bf7-ee3f-42b1-a184-92df395f157d-0', usage_metadata={'input_tokens': 858, 'output_tokens': 83, 'total_tokens': 941})],\n",
       " 'query_results': []}"
      ]
     },
     "execution_count": 28,
     "metadata": {},
     "output_type": "execute_result"
    }
   ],
   "source": [
    "out = graph.invoke({\"input\": \"List the top 3 nations based on the total number of customers from that nation.\"})\n",
    "out"
   ]
  },
  {
   "cell_type": "code",
   "execution_count": null,
   "id": "f9c2f7f1",
   "metadata": {},
   "outputs": [],
   "source": []
  },
  {
   "cell_type": "code",
   "execution_count": null,
   "id": "db9d3094",
   "metadata": {},
   "outputs": [],
   "source": []
  }
 ],
 "metadata": {
  "kernelspec": {
   "display_name": "Lakehouse-RAG (3.11.4)",
   "language": "python",
   "name": "python3"
  },
  "language_info": {
   "codemirror_mode": {
    "name": "ipython",
    "version": 3
   },
   "file_extension": ".py",
   "mimetype": "text/x-python",
   "name": "python",
   "nbconvert_exporter": "python",
   "pygments_lexer": "ipython3",
   "version": "3.11.4"
  }
 },
 "nbformat": 4,
 "nbformat_minor": 5
}
