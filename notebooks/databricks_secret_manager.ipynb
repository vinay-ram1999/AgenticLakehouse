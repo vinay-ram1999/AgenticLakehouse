{
 "cells": [
  {
   "cell_type": "code",
   "execution_count": 1,
   "id": "99b13c75",
   "metadata": {},
   "outputs": [],
   "source": [
    "from dotenv import load_dotenv\n",
    "import os\n",
    "\n",
    "from databricks.sdk import WorkspaceClient\n",
    "\n",
    "load_dotenv()\n",
    "\n",
    "w = WorkspaceClient()\n",
    "\n",
    "w.secrets.put_secret(\"lakehouse-rag-app\", key = \"GROQ_API_KEY\", string_value = os.environ.get(\"GROQ_API_KEY\"))\n",
    "w.secrets.put_secret(\"lakehouse-rag-app\", key = \"SUPABASE_URL\", string_value = os.environ.get(\"SUPABASE_URL\"))\n",
    "w.secrets.put_secret(\"lakehouse-rag-app\", key = \"SUPABASE_KEY\", string_value = os.environ.get(\"SUPABASE_KEY\"))\n",
    "w.secrets.put_secret(\"lakehouse-rag-app\", key = \"GOOGLE_API_KEY\", string_value = os.environ.get(\"GOOGLE_API_KEY\"))\n",
    "w.secrets.put_secret(\"lakehouse-rag-app\", key = \"TAVILY_API_KEY\", string_value = os.environ.get(\"TAVILY_API_KEY\"))\n",
    "w.secrets.put_secret(\"lakehouse-rag-app\", key = \"LANGSMITH_API_KEY\", string_value = os.environ.get(\"LANGSMITH_API_KEY\"))"
   ]
  },
  {
   "cell_type": "code",
   "execution_count": 2,
   "id": "26923566",
   "metadata": {},
   "outputs": [
    {
     "name": "stdout",
     "output_type": "stream",
     "text": [
      "{'key': 'GOOGLE_API_KEY', 'last_updated_timestamp': 1759726527212}\n",
      "{'key': 'GROQ_API_KEY', 'last_updated_timestamp': 1759726526785}\n",
      "{'key': 'LANGSMITH_API_KEY', 'last_updated_timestamp': 1759726527399}\n",
      "{'key': 'SUPABASE_KEY', 'last_updated_timestamp': 1759726527122}\n",
      "{'key': 'SUPABASE_URL', 'last_updated_timestamp': 1759726526963}\n",
      "{'key': 'TAVILY_API_KEY', 'last_updated_timestamp': 1759726527314}\n"
     ]
    }
   ],
   "source": [
    "for secret in w.secrets.list_secrets(\"lakehouse-rag-app\"):\n",
    "    print(secret.as_dict())"
   ]
  },
  {
   "cell_type": "code",
   "execution_count": null,
   "id": "aca6f302",
   "metadata": {},
   "outputs": [],
   "source": []
  }
 ],
 "metadata": {
  "kernelspec": {
   "display_name": "Lakehouse-RAG (3.11.4)",
   "language": "python",
   "name": "python3"
  },
  "language_info": {
   "codemirror_mode": {
    "name": "ipython",
    "version": 3
   },
   "file_extension": ".py",
   "mimetype": "text/x-python",
   "name": "python",
   "nbconvert_exporter": "python",
   "pygments_lexer": "ipython3",
   "version": "3.11.4"
  }
 },
 "nbformat": 4,
 "nbformat_minor": 5
}
