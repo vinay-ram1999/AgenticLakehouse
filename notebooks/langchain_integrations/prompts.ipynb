{
 "cells": [
  {
   "cell_type": "code",
   "execution_count": 1,
   "id": "7b6033d2",
   "metadata": {},
   "outputs": [
    {
     "data": {
      "text/plain": [
       "True"
      ]
     },
     "execution_count": 1,
     "metadata": {},
     "output_type": "execute_result"
    }
   ],
   "source": [
    "from dotenv import load_dotenv\n",
    "import os\n",
    "load_dotenv()"
   ]
  },
  {
   "cell_type": "code",
   "execution_count": 3,
   "id": "e3912ccd",
   "metadata": {},
   "outputs": [],
   "source": [
    "from langchain_groq import ChatGroq\n",
    "\n",
    "llm = ChatGroq(model=\"gemma2-9b-it\", temperature=0)"
   ]
  },
  {
   "cell_type": "code",
   "execution_count": null,
   "id": "f98ce415",
   "metadata": {},
   "outputs": [],
   "source": [
    "from langchain.prompts import SystemMessagePromptTemplate, HumanMessagePromptTemplate, AIMessagePromptTemplate\n",
    "\n",
    "system_prompt = SystemMessagePromptTemplate.from_template(\n",
    "    template=\"\"\"You are a chat assistant called {name} and your task is to say random unreleated stuff\"\"\",\n",
    "    input_variables=[\"name\"]\n",
    ")\n",
    "\n",
    "human_prompt = HumanMessagePromptTemplate.from_template(\n",
    "    template=\"\"\"\n",
    "The user wants you to tell something related to the following topic:\n",
    "---\n",
    "    {topic}\n",
    "---\n",
    "Don't really care about what he wants, generate some random stuff. Do not include anything else expect the output.\n",
    "\"\"\",\n",
    "    input_variables=[\"topic\"]\n",
    ")"
   ]
  },
  {
   "cell_type": "code",
   "execution_count": 10,
   "id": "b752aecf",
   "metadata": {},
   "outputs": [
    {
     "name": "stdout",
     "output_type": "stream",
     "text": [
      "\n",
      "The user wants you to tell something related to the following topic:\n",
      "---\n",
      "    LangChain\n",
      "---\n",
      "Don't really care about what he wants, generate some random stuff. Do not include anything else expect the output.\n",
      "\n"
     ]
    }
   ],
   "source": [
    "print(human_prompt.format(topic=\"LangChain\").content)"
   ]
  },
  {
   "cell_type": "code",
   "execution_count": 11,
   "id": "1e166748",
   "metadata": {},
   "outputs": [
    {
     "name": "stdout",
     "output_type": "stream",
     "text": [
      "System: You are a chat assistant called Random and your task is to say random unreleated stuff\n",
      "Human: \n",
      "The user wants you to tell something related to the following topic:\n",
      "---\n",
      "    LangChain\n",
      "---\n",
      "Don't really care about what he wants, generate some random stuff. Do not include anything else expect the output.\n",
      "\n"
     ]
    }
   ],
   "source": [
    "from langchain.prompts import ChatPromptTemplate\n",
    "\n",
    "chat_prompt = ChatPromptTemplate([system_prompt, human_prompt])\n",
    "print(chat_prompt.format(name=\"Random\", topic=\"LangChain\"))"
   ]
  },
  {
   "cell_type": "code",
   "execution_count": 12,
   "id": "98006802",
   "metadata": {},
   "outputs": [],
   "source": [
    "chain = (\n",
    "    {\"name\": lambda x: x[\"name\"], \"topic\": lambda x: x[\"topic\"]} |\n",
    "    chat_prompt |\n",
    "    llm\n",
    ")"
   ]
  },
  {
   "cell_type": "code",
   "execution_count": null,
   "id": "ccc50116",
   "metadata": {},
   "outputs": [
    {
     "name": "stdout",
     "output_type": "stream",
     "text": [
      "Purple elephants are surprisingly good at hide and seek. \n",
      "\n"
     ]
    }
   ],
   "source": [
    "print(chain.invoke({\"name\": \"Random\", \"topic\": \"LangChain\"}).content)"
   ]
  },
  {
   "cell_type": "code",
   "execution_count": 18,
   "id": "02c6cb94",
   "metadata": {},
   "outputs": [],
   "source": [
    "from pydantic import BaseModel, Field\n",
    "\n",
    "class OutPutStructure(BaseModel):\n",
    "    name: str = Field(None, description=\"Name of the chat assistant\")\n",
    "    topic: str = Field(None, description=\"The actual user topic\")\n",
    "    output: str = Field(None, description=\"The output generated but the chat assistant\")\n",
    "\n",
    "structured_llm = llm.with_structured_output(OutPutStructure)"
   ]
  },
  {
   "cell_type": "code",
   "execution_count": 19,
   "id": "382465d7",
   "metadata": {},
   "outputs": [],
   "source": [
    "new_chain = (\n",
    "    {\"name\": lambda x: x[\"name\"], \"topic\": lambda x: x[\"topic\"]} |\n",
    "    chat_prompt |\n",
    "    structured_llm\n",
    ")"
   ]
  },
  {
   "cell_type": "code",
   "execution_count": 20,
   "id": "b1a6efac",
   "metadata": {},
   "outputs": [
    {
     "data": {
      "text/plain": [
       "OutPutStructure(name='Random', topic='Random Stuff', output='The quick brown fox jumps over the lazy dog.')"
      ]
     },
     "execution_count": 20,
     "metadata": {},
     "output_type": "execute_result"
    }
   ],
   "source": [
    "new_chain.invoke({\"name\": \"Random\", \"topic\": \"LangChain\"})"
   ]
  },
  {
   "cell_type": "code",
   "execution_count": null,
   "id": "dd4db4f6",
   "metadata": {},
   "outputs": [],
   "source": []
  }
 ],
 "metadata": {
  "kernelspec": {
   "display_name": "Lakehouse-RAG (3.11.4)",
   "language": "python",
   "name": "python3"
  },
  "language_info": {
   "codemirror_mode": {
    "name": "ipython",
    "version": 3
   },
   "file_extension": ".py",
   "mimetype": "text/x-python",
   "name": "python",
   "nbconvert_exporter": "python",
   "pygments_lexer": "ipython3",
   "version": "3.11.4"
  }
 },
 "nbformat": 4,
 "nbformat_minor": 5
}
