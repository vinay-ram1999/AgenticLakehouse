{
 "cells": [
  {
   "cell_type": "code",
   "execution_count": 1,
   "id": "19806d0a",
   "metadata": {},
   "outputs": [
    {
     "data": {
      "text/plain": [
       "True"
      ]
     },
     "execution_count": 1,
     "metadata": {},
     "output_type": "execute_result"
    }
   ],
   "source": [
    "from dotenv import load_dotenv\n",
    "\n",
    "load_dotenv()"
   ]
  },
  {
   "cell_type": "code",
   "execution_count": 2,
   "id": "c095b522",
   "metadata": {},
   "outputs": [],
   "source": [
    "import os\n",
    "\n",
    "from langchain_community.vectorstores import SupabaseVectorStore\n",
    "from supabase.client import Client, create_client\n",
    "\n",
    "supabase_url = os.environ.get(\"SUPABASE_URL\")\n",
    "supabase_key = os.environ.get(\"SUPABASE_KEY\")\n",
    "supabase: Client = create_client(supabase_url, supabase_key)"
   ]
  },
  {
   "cell_type": "code",
   "execution_count": 3,
   "id": "d47a73b7",
   "metadata": {},
   "outputs": [
    {
     "name": "stderr",
     "output_type": "stream",
     "text": [
      "WARNING: All log messages before absl::InitializeLog() is called are written to STDERR\n",
      "E0000 00:00:1759866925.108644 4975465 alts_credentials.cc:93] ALTS creds ignored. Not running on GCP and untrusted ALTS is not enabled.\n",
      "E0000 00:00:1759866925.112832 4975465 alts_credentials.cc:93] ALTS creds ignored. Not running on GCP and untrusted ALTS is not enabled.\n"
     ]
    }
   ],
   "source": [
    "from langchain_google_genai import GoogleGenerativeAIEmbeddings\n",
    "\n",
    "embeddings = GoogleGenerativeAIEmbeddings(model=\"models/gemini-embedding-001\")"
   ]
  },
  {
   "cell_type": "code",
   "execution_count": 4,
   "id": "4b0fbd8e",
   "metadata": {},
   "outputs": [],
   "source": [
    "from langchain_community.document_loaders import TextLoader, PyPDFLoader\n",
    "from langchain_text_splitters import CharacterTextSplitter\n",
    "\n",
    "loader = PyPDFLoader(\"../../data/TPC-H_v3.0.1.pdf\")\n",
    "documents = loader.load()\n",
    "text_splitter = CharacterTextSplitter(chunk_size=500, chunk_overlap=50)\n",
    "docs = text_splitter.split_documents(documents)"
   ]
  },
  {
   "cell_type": "code",
   "execution_count": 7,
   "id": "189f33f0",
   "metadata": {},
   "outputs": [
    {
     "data": {
      "text/plain": [
       "138"
      ]
     },
     "execution_count": 7,
     "metadata": {},
     "output_type": "execute_result"
    }
   ],
   "source": [
    "len(docs)"
   ]
  },
  {
   "cell_type": "code",
   "execution_count": null,
   "id": "bca2cdf4",
   "metadata": {},
   "outputs": [
    {
     "name": "stdout",
     "output_type": "stream",
     "text": [
      "embedding documents 50-59\n",
      "embedding documents 60-69\n",
      "embedding documents 70-79\n",
      "embedding documents 80-89\n",
      "embedding documents 90-99\n",
      "embedding documents 100-109\n",
      "embedding documents 110-119\n",
      "embedding documents 120-129\n",
      "embedding documents 130-139\n"
     ]
    }
   ],
   "source": [
    "# import time\n",
    "\n",
    "# rate_limit = 10 # (RPM - 100; TPM - 30,000; RPD - 1000)\n",
    "# rate_limit_period = 120\n",
    "# for i in range(0, len(docs), rate_limit):\n",
    "#     print(f\"embedding documents {i}-{i+rate_limit-1}\")\n",
    "#     docs_chunk = docs[i:i+rate_limit]\n",
    "#     vector_store = SupabaseVectorStore.from_documents(\n",
    "#         docs_chunk,\n",
    "#         embeddings,\n",
    "#         client=supabase,\n",
    "#         table_name=\"documents_temp\",\n",
    "#         query_name=\"match_documents_temp\",\n",
    "#         chunk_size=500\n",
    "#     )\n",
    "#     time.sleep(rate_limit_period)"
   ]
  },
  {
   "cell_type": "code",
   "execution_count": 12,
   "id": "5eb8b21e",
   "metadata": {},
   "outputs": [],
   "source": [
    "vector_store = SupabaseVectorStore(\n",
    "    embedding=embeddings,\n",
    "    client=supabase,\n",
    "    table_name=\"documents_temp\",\n",
    "    query_name=\"match_documents_temp\",\n",
    ")"
   ]
  },
  {
   "cell_type": "code",
   "execution_count": 13,
   "id": "d095a611",
   "metadata": {},
   "outputs": [],
   "source": [
    "query = \"what is the business and application environment of the TPCH-H database?\"\n",
    "matched_docs = vector_store.similarity_search(query)"
   ]
  },
  {
   "cell_type": "code",
   "execution_count": 14,
   "id": "598d22fe",
   "metadata": {},
   "outputs": [
    {
     "name": "stdout",
     "output_type": "stream",
     "text": [
      "TPC BenchmarkTM H Standard Specification Revision 3.0.1 Page 11 \n",
      "1:  LOGICAL DATABASE DESIGN \n",
      "1.1 Business and Application Environment \n",
      "TPC Benchmark™ H is comprised of a set of business queries designed to exercise system functionalities in a \n",
      "manner representative of complex business analysis applications. T hese queries have been given a realistic context, \n",
      "portraying the activity of a wholesale supplier to help the reader relate intuitively to the components of the \n",
      "benchmark. \n",
      " \n",
      "TPC-H does not represent the activity of any particular business segment, but rathe r any industry which must \n",
      "manage sell, or distribute a product worldwide (e.g., car rental, food distribution, parts, suppliers, etc.). TPC -H does \n",
      "not attempt to be a model of how to build an actual information analysis application.  \n",
      " \n",
      "The purpose of this be nchmark is to reduce the diversity of operations found in an information analysis application, \n",
      "while retaining the application's essential performance characteristics, namely: the level of system utilization and the \n",
      "complexity of operations. A large number  of queries of various types and complexities needs to be executed to \n",
      "completely manage a business analysis environment. Many of the queries are not of primary interest for \n",
      "performance analysis because of the length of time the queries run, the system reso urces they use and the frequency \n",
      "of their execution. The queries that have been selected exhibit the following characteristics:  \n",
      "• They have a high degree of complexity; \n",
      "• They use a variety of access \n",
      "• They are of an ad hoc nature; \n",
      "• They examine a large percentage of the available data; \n",
      "• They all differ from each other; \n",
      "• They contain query parameters that change across query executions. \n",
      " \n",
      "These selected queries provide answers to the following classes of business analysis:  \n",
      "• Pricing and promotions; \n",
      "• Supply and demand management; \n",
      "• Profit and revenue management; \n",
      "• Customer satisfaction study; \n",
      "• Market share study; \n",
      "• Shipping management. \n",
      " \n",
      "Although the emphasis is on information analysis, the benchmark recognizes the need to periodically refresh the  \n",
      "database. The database is not a one-time snapshot of a business operations database nor is it a database where OLTP \n",
      "applications are running concurrently. The database must, however, be able to support queries and refresh functions \n",
      "against all tables on a 7 day by 24 hour (7 x 24) basis. \n",
      " \n",
      "While the benchmark models a business environment in which refresh functions are an integral part of data \n",
      "maintenance, the refresh functions actually required in the benchmark do not attempt to model this aspect of the \n",
      "business environment. Thei r purpose is rather to demonstrate the update functionality for the DBMS, while \n",
      "simultaneously assessing an appropriate performance cost to the maintenance of auxiliary data structures, such as \n",
      "secondary indices. \n",
      " \n",
      "Comment: The benchmark does not include an y test or measure to verify continuous database availability or \n",
      "particular system features which would make the benchmarked configuration appropriate for 7x24 operation. \n",
      "References to continuous availability and 7x24 operation are included in the benchmark  specification to provide a \n",
      "more complete picture of the anticipated decision support environment. A configuration offering less that 7x24\n"
     ]
    }
   ],
   "source": [
    "print(matched_docs[0].page_content)"
   ]
  },
  {
   "cell_type": "code",
   "execution_count": 15,
   "id": "f3295d62",
   "metadata": {},
   "outputs": [],
   "source": [
    "matched_docs = vector_store.similarity_search_with_relevance_scores(query)"
   ]
  },
  {
   "cell_type": "code",
   "execution_count": 16,
   "id": "a1ca12b8",
   "metadata": {},
   "outputs": [
    {
     "data": {
      "text/plain": [
       "(Document(metadata={'page': 10, 'title': '0: INTRODUCTION', 'author': 'John Galloway', 'source': '../../data/TPC-H_v3.0.1.pdf', 'creator': 'Microsoft® Word for Microsoft 365', 'moddate': '2022-04-28T16:01:40-07:00', 'producer': 'Microsoft® Word for Microsoft 365', 'page_label': '11', 'total_pages': 138, 'creationdate': '2022-04-28T16:01:40-07:00'}, page_content=\"TPC BenchmarkTM H Standard Specification Revision 3.0.1 Page 11 \\n1:  LOGICAL DATABASE DESIGN \\n1.1 Business and Application Environment \\nTPC Benchmark™ H is comprised of a set of business queries designed to exercise system functionalities in a \\nmanner representative of complex business analysis applications. T hese queries have been given a realistic context, \\nportraying the activity of a wholesale supplier to help the reader relate intuitively to the components of the \\nbenchmark. \\n \\nTPC-H does not represent the activity of any particular business segment, but rathe r any industry which must \\nmanage sell, or distribute a product worldwide (e.g., car rental, food distribution, parts, suppliers, etc.). TPC -H does \\nnot attempt to be a model of how to build an actual information analysis application.  \\n \\nThe purpose of this be nchmark is to reduce the diversity of operations found in an information analysis application, \\nwhile retaining the application's essential performance characteristics, namely: the level of system utilization and the \\ncomplexity of operations. A large number  of queries of various types and complexities needs to be executed to \\ncompletely manage a business analysis environment. Many of the queries are not of primary interest for \\nperformance analysis because of the length of time the queries run, the system reso urces they use and the frequency \\nof their execution. The queries that have been selected exhibit the following characteristics:  \\n• They have a high degree of complexity; \\n• They use a variety of access \\n• They are of an ad hoc nature; \\n• They examine a large percentage of the available data; \\n• They all differ from each other; \\n• They contain query parameters that change across query executions. \\n \\nThese selected queries provide answers to the following classes of business analysis:  \\n• Pricing and promotions; \\n• Supply and demand management; \\n• Profit and revenue management; \\n• Customer satisfaction study; \\n• Market share study; \\n• Shipping management. \\n \\nAlthough the emphasis is on information analysis, the benchmark recognizes the need to periodically refresh the  \\ndatabase. The database is not a one-time snapshot of a business operations database nor is it a database where OLTP \\napplications are running concurrently. The database must, however, be able to support queries and refresh functions \\nagainst all tables on a 7 day by 24 hour (7 x 24) basis. \\n \\nWhile the benchmark models a business environment in which refresh functions are an integral part of data \\nmaintenance, the refresh functions actually required in the benchmark do not attempt to model this aspect of the \\nbusiness environment. Thei r purpose is rather to demonstrate the update functionality for the DBMS, while \\nsimultaneously assessing an appropriate performance cost to the maintenance of auxiliary data structures, such as \\nsecondary indices. \\n \\nComment: The benchmark does not include an y test or measure to verify continuous database availability or \\nparticular system features which would make the benchmarked configuration appropriate for 7x24 operation. \\nReferences to continuous availability and 7x24 operation are included in the benchmark  specification to provide a \\nmore complete picture of the anticipated decision support environment. A configuration offering less that 7x24\"),\n",
       " 0.89142611299236)"
      ]
     },
     "execution_count": 16,
     "metadata": {},
     "output_type": "execute_result"
    }
   ],
   "source": [
    "matched_docs[0]"
   ]
  },
  {
   "cell_type": "code",
   "execution_count": 17,
   "id": "74c71fff",
   "metadata": {},
   "outputs": [],
   "source": [
    "retriever = vector_store.as_retriever()"
   ]
  },
  {
   "cell_type": "code",
   "execution_count": 18,
   "id": "a39c52e0",
   "metadata": {},
   "outputs": [
    {
     "name": "stderr",
     "output_type": "stream",
     "text": [
      "I0000 00:00:1759868984.353339 4975465 fork_posix.cc:71] Other threads are currently calling into gRPC, skipping fork() handlers\n"
     ]
    }
   ],
   "source": [
    "matched_docs = retriever.invoke(query)"
   ]
  },
  {
   "cell_type": "code",
   "execution_count": 19,
   "id": "d9fc5206",
   "metadata": {},
   "outputs": [
    {
     "name": "stdout",
     "output_type": "stream",
     "text": [
      "\n",
      "## Document 0\n",
      "\n",
      "TPC BenchmarkTM H Standard Specification Revision 3.0.1 Page 11 \n",
      "1:  LOGICAL DATABASE DESIGN \n",
      "1.1 Business and Application Environment \n",
      "TPC Benchmark™ H is comprised of a set of business queries designed to exercise system functionalities in a \n",
      "manner representative of complex business analysis applications. T hese queries have been given a realistic context, \n",
      "portraying the activity of a wholesale supplier to help the reader relate intuitively to the components of the \n",
      "benchmark. \n",
      " \n",
      "TPC-H does not represent the activity of any particular business segment, but rathe r any industry which must \n",
      "manage sell, or distribute a product worldwide (e.g., car rental, food distribution, parts, suppliers, etc.). TPC -H does \n",
      "not attempt to be a model of how to build an actual information analysis application.  \n",
      " \n",
      "The purpose of this be nchmark is to reduce the diversity of operations found in an information analysis application, \n",
      "while retaining the application's essential performance characteristics, namely: the level of system utilization and the \n",
      "complexity of operations. A large number  of queries of various types and complexities needs to be executed to \n",
      "completely manage a business analysis environment. Many of the queries are not of primary interest for \n",
      "performance analysis because of the length of time the queries run, the system reso urces they use and the frequency \n",
      "of their execution. The queries that have been selected exhibit the following characteristics:  \n",
      "• They have a high degree of complexity; \n",
      "• They use a variety of access \n",
      "• They are of an ad hoc nature; \n",
      "• They examine a large percentage of the available data; \n",
      "• They all differ from each other; \n",
      "• They contain query parameters that change across query executions. \n",
      " \n",
      "These selected queries provide answers to the following classes of business analysis:  \n",
      "• Pricing and promotions; \n",
      "• Supply and demand management; \n",
      "• Profit and revenue management; \n",
      "• Customer satisfaction study; \n",
      "• Market share study; \n",
      "• Shipping management. \n",
      " \n",
      "Although the emphasis is on information analysis, the benchmark recognizes the need to periodically refresh the  \n",
      "database. The database is not a one-time snapshot of a business operations database nor is it a database where OLTP \n",
      "applications are running concurrently. The database must, however, be able to support queries and refresh functions \n",
      "against all tables on a 7 day by 24 hour (7 x 24) basis. \n",
      " \n",
      "While the benchmark models a business environment in which refresh functions are an integral part of data \n",
      "maintenance, the refresh functions actually required in the benchmark do not attempt to model this aspect of the \n",
      "business environment. Thei r purpose is rather to demonstrate the update functionality for the DBMS, while \n",
      "simultaneously assessing an appropriate performance cost to the maintenance of auxiliary data structures, such as \n",
      "secondary indices. \n",
      " \n",
      "Comment: The benchmark does not include an y test or measure to verify continuous database availability or \n",
      "particular system features which would make the benchmarked configuration appropriate for 7x24 operation. \n",
      "References to continuous availability and 7x24 operation are included in the benchmark  specification to provide a \n",
      "more complete picture of the anticipated decision support environment. A configuration offering less that 7x24\n",
      "\n",
      "## Document 1\n",
      "\n",
      "TPC BenchmarkTM H Standard Specification Revision 3.0.1 Page 12 \n",
      "availability can produce compliant benchmark results as long as it meets all the requirements described in this \n",
      "specification. \n",
      " \n",
      " \n",
      " \n",
      "Figure 1: The TPC -H Business Environment illustrates the TPC -H business environment and highlights the basic \n",
      "differences between TPC-H and other TPC benchmarks. \n",
      " \n",
      "Figure 1: The TPC-H Business Environment \n",
      " \n",
      "Other TPC benchmarks model the operational end of the business environment where transactions are executed on a \n",
      "real time basis. The TPC-H benchmark, however, models the analysis end of the business environment where trends \n",
      "are comput ed and refined data are produced to support the making of sound business decisions. In OLTP \n",
      "benchmarks the raw data flow into the OLTP database from various sources where it is maintained for some period \n",
      "of time. In TPC -H, periodic refresh functions are pe rformed against a DSS database whose content is queried on \n",
      "behalf of or by various decision makers. \n",
      " \n",
      "Business \n",
      " \n",
      "Analysis \n",
      " \n",
      "Business \n",
      "Operations \n",
      "OLTP \n",
      "Database \n",
      "OLTP \n",
      "Transactions \n",
      "DSS \n",
      "Database \n",
      "TPC-H \n",
      "Decision Makers \n",
      "DSS Queries\n",
      "\n",
      "## Document 2\n",
      "\n",
      "TPC BenchmarkTM H Standard Specification Revision 3.0.1 Page 8 \n",
      "0:  INTRODUCTION \n",
      "0.1 Preamble \n",
      "The TPC Benchmark™H (TPC-H) is a decision support benchmark. It consists of a suite of business oriented ad -hoc \n",
      "queries and concurrent data modifications. The queries and the data populating the database have been chosen to \n",
      "have broad industry -wide relevance while maintaining a sufficient degree of ease of implementation. This \n",
      "benchmark illustrates decision support systems that \n",
      "• Examine large volumes of data; \n",
      "• Execute queries with a high degree of complexity; \n",
      "• Give answers to critical business questions. \n",
      " \n",
      "TPC-H evaluates the performance of various decision support systems by the execution of sets of queries against a \n",
      "standard database under controlled conditions. The TPC-H queries: \n",
      "• Give answers to real-world business questions; \n",
      "• Simulate generated ad-hoc queries (e.g., via a point and click GUI interface); \n",
      "• Are far more complex than most OLTP transactions; \n",
      "• Include a rich breadth of operators and selectivity constraints; \n",
      "• Generate intensive activity on the part of the database server component of the system under test;  \n",
      "• Are executed against a database complying to specific population and scaling requirements;  \n",
      "• Are implemented w ith constraints derived from staying closely synchronized with an on -line production \n",
      "database.  \n",
      "The TPC-H operations are modeled as follows: \n",
      "• The database is continuously available 24 hours a day, 7 days a week, for ad -hoc queries from multiple end \n",
      "users an d data modifications against all tables, except possibly during infrequent (e.g., once a month) \n",
      "maintenance sessions; \n",
      "• The TPC-H database tracks, possibly with some delay, the state of the OLTP database through on -going \n",
      "refresh functions which batch togethe r a number of modifications impacting some part of the decision \n",
      "support database; \n",
      "• Due to the world-wide nature of the business data stored in the TPC -H database, the queries and the refresh \n",
      "functions may be executed against the database at any time, especi ally in relation to each other. In addition, \n",
      "this mix of queries and refresh functions is subject to specific ACIDity requirements, since queries and \n",
      "refresh functions may execute concurrently; \n",
      "• To achieve the optimal compromise between performance and oper ational requirements, the database \n",
      "administrator can set, once and for all, the locking levels and the concurrent scheduling rules for queries \n",
      "and refresh functions. \n",
      " \n",
      "The minimum database required to run the benchmark holds business data from 10,000 suppli ers. It contains almost \n",
      "ten million rows representing a raw storage capacity of about 1 gigabyte. Compliant benchmark implementations \n",
      "may also use one of the larger permissible database populations (e.g., 100 gigabytes), as defined in Clause 4.1.3.  \n",
      " \n",
      "The performance metric reported by TPC -H is called the TPC -H Composite Query -per-Hour Performance Metric \n",
      "(QphH@Size), and reflects multiple aspects of the capability of the system to p rocess queries. These aspects include \n",
      "the selected database size against which the queries are executed, the query processing power when queries are \n",
      "submitted by a single stream and the query throughput when queries are submitted by multiple concurrent use rs. The \n",
      "TPC-H Price/Performance metric is expressed as $/ kQphH@Size. To be compliant with the TPC -H standard, all \n",
      "references to TPC -H results for a given configuration must include all required reporting components (see Clause\n",
      "\n",
      "## Document 3\n",
      "\n",
      "TPC BenchmarkTM H Standard Specification Revision 3.0.1 Page 9 \n",
      "5.4.6). The TPC believes that comparisons of TPC -H results measured against different database sizes are \n",
      "misleading and discourages such comparisons. \n",
      " \n",
      "The TPC-H database must be implemented using a commercially available database management system (DBMS) \n",
      "and the queries executed via an interface using dynamic SQL. The specification provides for variants of SQL, as \n",
      "implementers are not required to have implemented a specific SQL standard in full. \n",
      " \n",
      "TPC-H uses terminology and metrics that are similar to other benchmarks, originated by the TPC and others. Such \n",
      "similarity in terminology does not in any way imply that TPC -H results are comparable to other benchmarks. The \n",
      "only benchmark results comparable to TPC-H are other TPC-H results compliant with the same revision. \n",
      " \n",
      "Despite the fact that this benchmark offers a rich environment representative of many decision support systems, this \n",
      "benchmark does not reflect the entire range of decisi on support requirements. In addition, the extent to which a \n",
      "customer can achieve the results reported by a vendor is highly dependent on how closely TPC -H approximates the \n",
      "customer application. The relative performance of systems derived from this benchmar k does not necessarily hold \n",
      "for other workloads or environments. Extrapolations to any other environment are not recommended.  \n",
      " \n",
      "Benchmark results are highly dependent upon workload, specific application requirements, and systems design and \n",
      "implementation. R elative system performance will vary as a result of these and other factors. Therefore, TPC -H \n",
      "should not be used as a substitute for a specific customer application benchmarking when critical capacity planning \n",
      "and/or product evaluation decisions are contemplated. \n",
      " \n",
      "Benchmark sponsors are permitted several possible system designs, provided that they adhere to the model \n",
      "described in Clause 6:  . A full disclosure report  (FDR) of the implementation details, as specified in Clause 8, must \n",
      "be made available along with the reported results. \n",
      " \n",
      "Comment 1: While separated from the main text for readability, comments and appendices are a part of the standard \n",
      "and their provisions must be complied with. \n",
      " \n",
      "Comment 2: The contents of some appendices are provided in a machine readable format and are not included in \n",
      "the printed copy of this document. \n",
      " \n",
      "0.2 General Implementation Guidelines \n",
      "The rules for pricing are included in the TPC Pricing Specification located at www.tpc.org. \n",
      " \n",
      "The purpose of TPC benchmarks is to provide relevant, objective performance data to industry users. To achieve \n",
      "that purpose, TPC benchmark specifications require that benchmark tests be implemented with systems, prod ucts, \n",
      "technologies and pricing that: \n",
      "• Are generally available to users; \n",
      "• Are relevant to the market segment that the individual TPC benchmark models or represents (e.g., TPC -H \n",
      "models and represents complex, high data volume, decision support environments);  \n",
      "• Would plausibly be implemented by a significant number of users in the market segment the benchmark \n",
      "models or represents. \n",
      "The use of new systems, products, technologies (hardware or software) and pricing is encouraged so long as they \n",
      "meet the requirements a bove. Specifically prohibited are benchmark systems, products, technologies or pricing \n",
      "(hereafter referred to as \"implementations\") whose primary purpose is performance optimization of TPC benchmark \n",
      "results without any corresponding applicability to real -world applications and environments. In other words, all \n",
      "\"benchmark special\" implementations that improve benchmark results but not real -world performance or pricing, are \n",
      "prohibited. \n",
      " \n",
      "The following characteristics shall be used as a guide to judge whether a  particular implementation is a benchmark \n",
      "special. It is not required that each point below be met, but that the cumulative weight of the evidence be considered \n",
      "to identify an unacceptable implementation. Absolute certainty or certainty beyond a reasonable  doubt is not \n",
      "required to make a judgment on this complex issue. The question that must be answered is: \"Based on the available\n"
     ]
    }
   ],
   "source": [
    "for i, d in enumerate(matched_docs):\n",
    "    print(f\"\\n## Document {i}\\n\")\n",
    "    print(d.page_content)"
   ]
  },
  {
   "cell_type": "code",
   "execution_count": null,
   "id": "c3e6a7dd",
   "metadata": {},
   "outputs": [],
   "source": []
  },
  {
   "cell_type": "code",
   "execution_count": null,
   "id": "2073340e",
   "metadata": {},
   "outputs": [],
   "source": []
  },
  {
   "cell_type": "code",
   "execution_count": null,
   "id": "469ac457",
   "metadata": {},
   "outputs": [],
   "source": []
  }
 ],
 "metadata": {
  "kernelspec": {
   "display_name": "Lakehouse-RAG (3.11.4)",
   "language": "python",
   "name": "python3"
  },
  "language_info": {
   "codemirror_mode": {
    "name": "ipython",
    "version": 3
   },
   "file_extension": ".py",
   "mimetype": "text/x-python",
   "name": "python",
   "nbconvert_exporter": "python",
   "pygments_lexer": "ipython3",
   "version": "3.11.4"
  }
 },
 "nbformat": 4,
 "nbformat_minor": 5
}
